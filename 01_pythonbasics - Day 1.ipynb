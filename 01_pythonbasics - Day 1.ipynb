{
 "cells": [
  {
   "cell_type": "code",
   "execution_count": 1,
   "id": "b408bc56-2f08-4b6e-b902-a5224bf0efc1",
   "metadata": {},
   "outputs": [
    {
     "name": "stdout",
     "output_type": "stream",
     "text": [
      "Hello world\n"
     ]
    }
   ],
   "source": [
    "print(\"Hello world\")\n"
   ]
  },
  {
   "cell_type": "code",
   "execution_count": 2,
   "id": "8c8c268f-6ba2-49d2-a2f1-cd1c10257683",
   "metadata": {},
   "outputs": [
    {
     "data": {
      "text/plain": [
       "30"
      ]
     },
     "execution_count": 2,
     "metadata": {},
     "output_type": "execute_result"
    }
   ],
   "source": [
    "# a= 10\n",
    "# b=343\n",
    "# c=a+b\n",
    "# print(c)\n",
    "10+20"
   ]
  },
  {
   "cell_type": "code",
   "execution_count": 3,
   "id": "e301e8d8-0119-41f1-b6d3-32911ed19045",
   "metadata": {},
   "outputs": [
    {
     "data": {
      "text/plain": [
       "'Excelr'"
      ]
     },
     "execution_count": 3,
     "metadata": {},
     "output_type": "execute_result"
    }
   ],
   "source": [
    "\"Excelr\""
   ]
  },
  {
   "cell_type": "code",
   "execution_count": 4,
   "id": "f363bf23-7a43-43af-8934-a8dc937fc944",
   "metadata": {},
   "outputs": [
    {
     "name": "stdout",
     "output_type": "stream",
     "text": [
      "Welcome to Exelr\n"
     ]
    }
   ],
   "source": [
    "print(\"Welcome to Exelr\") #print is a function beacause after print word the round brackets are present\n",
    "#How to identify the Function\n",
    "#round brackets are present after any word are known as function\n",
    "#We pass inside the function an argument , parameter or input to function"
   ]
  },
  {
   "cell_type": "code",
   "execution_count": 5,
   "id": "3162ddeb-48bc-4d69-8109-4aafafd7cfe1",
   "metadata": {},
   "outputs": [
    {
     "data": {
      "text/plain": [
       "60.0"
      ]
     },
     "execution_count": 5,
     "metadata": {},
     "output_type": "execute_result"
    }
   ],
   "source": [
    "120/2"
   ]
  },
  {
   "cell_type": "code",
   "execution_count": 6,
   "id": "363a8914-8d4c-45ca-bcd2-a3a51617f136",
   "metadata": {},
   "outputs": [
    {
     "data": {
      "text/plain": [
       "30"
      ]
     },
     "execution_count": 6,
     "metadata": {},
     "output_type": "execute_result"
    }
   ],
   "source": [
    "(5-2)*10"
   ]
  },
  {
   "cell_type": "markdown",
   "id": "25c32cce-0740-4560-940d-4e710452fb3e",
   "metadata": {},
   "source": [
    "# Variables"
   ]
  },
  {
   "cell_type": "code",
   "execution_count": 7,
   "id": "70d58277-eb6d-4ba6-a834-d497a8780ef8",
   "metadata": {},
   "outputs": [
    {
     "name": "stdout",
     "output_type": "stream",
     "text": [
      "100\n"
     ]
    }
   ],
   "source": [
    "mark=100 #mark is a variable we are storing the interger value in the mark variable\n",
    "print(mark)\n"
   ]
  },
  {
   "cell_type": "markdown",
   "id": "7b111cd9-548c-4d0a-ae54-b866f2df1b4f",
   "metadata": {},
   "source": [
    "# Checking Data Type"
   ]
  },
  {
   "cell_type": "code",
   "execution_count": 8,
   "id": "3c7887e8-9b43-4550-b865-9d9afff46bbc",
   "metadata": {},
   "outputs": [
    {
     "data": {
      "text/plain": [
       "int"
      ]
     },
     "execution_count": 8,
     "metadata": {},
     "output_type": "execute_result"
    }
   ],
   "source": [
    "type(mark)\n"
   ]
  },
  {
   "cell_type": "code",
   "execution_count": 9,
   "id": "83cb3079-15ef-4025-888a-aff7716d0c1c",
   "metadata": {},
   "outputs": [
    {
     "data": {
      "text/plain": [
       "125"
      ]
     },
     "execution_count": 9,
     "metadata": {},
     "output_type": "execute_result"
    }
   ],
   "source": [
    "5**3"
   ]
  },
  {
   "cell_type": "code",
   "execution_count": 10,
   "id": "fcb7d4b5-c2af-49f0-95ce-788209d88e06",
   "metadata": {},
   "outputs": [
    {
     "data": {
      "text/plain": [
       "25"
      ]
     },
     "execution_count": 10,
     "metadata": {},
     "output_type": "execute_result"
    }
   ],
   "source": [
    "5**2\n"
   ]
  },
  {
   "cell_type": "markdown",
   "id": "1619ddf7-0e8c-4867-86f6-7ef8d6d2a0ab",
   "metadata": {},
   "source": [
    "# Boolean Operations\n"
   ]
  },
  {
   "cell_type": "code",
   "execution_count": 11,
   "id": "4ee8d017-15af-4ac8-99ed-fc1ff3520431",
   "metadata": {},
   "outputs": [],
   "source": [
    "x=True\n",
    "y=False\n"
   ]
  },
  {
   "cell_type": "code",
   "execution_count": 12,
   "id": "78461710-7cd9-49dd-84b0-aeaa34a391f8",
   "metadata": {},
   "outputs": [
    {
     "data": {
      "text/plain": [
       "True"
      ]
     },
     "execution_count": 12,
     "metadata": {},
     "output_type": "execute_result"
    }
   ],
   "source": [
    "x or y"
   ]
  },
  {
   "cell_type": "code",
   "execution_count": 13,
   "id": "da7c50dd-d520-427f-b573-7e8de30b3cf1",
   "metadata": {},
   "outputs": [
    {
     "data": {
      "text/plain": [
       "False"
      ]
     },
     "execution_count": 13,
     "metadata": {},
     "output_type": "execute_result"
    }
   ],
   "source": [
    "x and y"
   ]
  },
  {
   "cell_type": "code",
   "execution_count": 14,
   "id": "698b63aa-0476-473f-bfe4-6a4d04098c85",
   "metadata": {},
   "outputs": [
    {
     "data": {
      "text/plain": [
       "False"
      ]
     },
     "execution_count": 14,
     "metadata": {},
     "output_type": "execute_result"
    }
   ],
   "source": [
    "not x"
   ]
  },
  {
   "cell_type": "code",
   "execution_count": 15,
   "id": "ae9b6ed8-1239-411a-bcef-bc4df4eed4b9",
   "metadata": {},
   "outputs": [
    {
     "data": {
      "text/plain": [
       "True"
      ]
     },
     "execution_count": 15,
     "metadata": {},
     "output_type": "execute_result"
    }
   ],
   "source": [
    "not y"
   ]
  },
  {
   "cell_type": "code",
   "execution_count": 16,
   "id": "e5b1b617-ea8c-4145-88de-d6944cf2f433",
   "metadata": {},
   "outputs": [],
   "source": [
    "x=30\n",
    "y=37"
   ]
  },
  {
   "cell_type": "code",
   "execution_count": 17,
   "id": "858ddc8b-be14-4c0f-a271-67b4db07ae0e",
   "metadata": {},
   "outputs": [
    {
     "data": {
      "text/plain": [
       "True"
      ]
     },
     "execution_count": 17,
     "metadata": {},
     "output_type": "execute_result"
    }
   ],
   "source": [
    "z=x<y\n",
    "z"
   ]
  },
  {
   "cell_type": "code",
   "execution_count": 18,
   "id": "dd4d7a53-064b-45b9-9821-e0721181c5d9",
   "metadata": {},
   "outputs": [
    {
     "data": {
      "text/plain": [
       "False"
      ]
     },
     "execution_count": 18,
     "metadata": {},
     "output_type": "execute_result"
    }
   ],
   "source": [
    "z1=x>y\n",
    "z1\n"
   ]
  },
  {
   "cell_type": "code",
   "execution_count": 19,
   "id": "4320ab89-ee67-4657-a807-2657c8a0d0a9",
   "metadata": {},
   "outputs": [
    {
     "data": {
      "text/plain": [
       "False"
      ]
     },
     "execution_count": 19,
     "metadata": {},
     "output_type": "execute_result"
    }
   ],
   "source": [
    "not z"
   ]
  },
  {
   "cell_type": "code",
   "execution_count": 20,
   "id": "09fbe2d0-d25f-495b-90c0-f549ad8a66a2",
   "metadata": {},
   "outputs": [
    {
     "data": {
      "text/plain": [
       "True"
      ]
     },
     "execution_count": 20,
     "metadata": {},
     "output_type": "execute_result"
    }
   ],
   "source": [
    "not z1"
   ]
  },
  {
   "cell_type": "markdown",
   "id": "a1dfe6d4-4532-4048-8527-602dee37d6ad",
   "metadata": {},
   "source": [
    "# Type Casting"
   ]
  },
  {
   "cell_type": "code",
   "execution_count": 21,
   "id": "332242ff-d9fd-4206-b290-5df641a47319",
   "metadata": {},
   "outputs": [
    {
     "data": {
      "text/plain": [
       "bool"
      ]
     },
     "execution_count": 21,
     "metadata": {},
     "output_type": "execute_result"
    }
   ],
   "source": [
    "type(z1)"
   ]
  },
  {
   "cell_type": "code",
   "execution_count": 22,
   "id": "7381ff3d-cd70-44ac-a90d-0ec1d0cf21e8",
   "metadata": {},
   "outputs": [
    {
     "data": {
      "text/plain": [
       "float"
      ]
     },
     "execution_count": 22,
     "metadata": {},
     "output_type": "execute_result"
    }
   ],
   "source": [
    "price=50.5\n",
    "price\n",
    "type(price)"
   ]
  },
  {
   "cell_type": "code",
   "execution_count": 23,
   "id": "ae9f3b3d-8ae3-4b91-b5c7-6f64cb44fca4",
   "metadata": {},
   "outputs": [
    {
     "name": "stdout",
     "output_type": "stream",
     "text": [
      "50.5\n"
     ]
    },
    {
     "data": {
      "text/plain": [
       "float"
      ]
     },
     "execution_count": 23,
     "metadata": {},
     "output_type": "execute_result"
    }
   ],
   "source": [
    "print(price) # To see intermediate line's output use print() function\n",
    "type(price)#it both print the price of the above code and type of the code "
   ]
  },
  {
   "cell_type": "code",
   "execution_count": 24,
   "id": "e9859861-35e1-4206-9752-c40e1464473a",
   "metadata": {},
   "outputs": [
    {
     "data": {
      "text/plain": [
       "str"
      ]
     },
     "execution_count": 24,
     "metadata": {},
     "output_type": "execute_result"
    }
   ],
   "source": [
    "name='vivek'#we  also write the string in double cot \" \" as well as single cot ''\n",
    "type(name)\n"
   ]
  },
  {
   "cell_type": "markdown",
   "id": "26f4ab46-57c1-488d-85fd-797e8ff86cb7",
   "metadata": {},
   "source": [
    "# Checking Directory of the string\n"
   ]
  },
  {
   "cell_type": "code",
   "execution_count": 25,
   "id": "8e61f491-371f-41a5-8001-4707b61efa84",
   "metadata": {},
   "outputs": [
    {
     "data": {
      "text/plain": [
       "['__add__',\n",
       " '__class__',\n",
       " '__contains__',\n",
       " '__delattr__',\n",
       " '__dir__',\n",
       " '__doc__',\n",
       " '__eq__',\n",
       " '__format__',\n",
       " '__ge__',\n",
       " '__getattribute__',\n",
       " '__getitem__',\n",
       " '__getnewargs__',\n",
       " '__getstate__',\n",
       " '__gt__',\n",
       " '__hash__',\n",
       " '__init__',\n",
       " '__init_subclass__',\n",
       " '__iter__',\n",
       " '__le__',\n",
       " '__len__',\n",
       " '__lt__',\n",
       " '__mod__',\n",
       " '__mul__',\n",
       " '__ne__',\n",
       " '__new__',\n",
       " '__reduce__',\n",
       " '__reduce_ex__',\n",
       " '__repr__',\n",
       " '__rmod__',\n",
       " '__rmul__',\n",
       " '__setattr__',\n",
       " '__sizeof__',\n",
       " '__str__',\n",
       " '__subclasshook__',\n",
       " 'capitalize',\n",
       " 'casefold',\n",
       " 'center',\n",
       " 'count',\n",
       " 'encode',\n",
       " 'endswith',\n",
       " 'expandtabs',\n",
       " 'find',\n",
       " 'format',\n",
       " 'format_map',\n",
       " 'index',\n",
       " 'isalnum',\n",
       " 'isalpha',\n",
       " 'isascii',\n",
       " 'isdecimal',\n",
       " 'isdigit',\n",
       " 'isidentifier',\n",
       " 'islower',\n",
       " 'isnumeric',\n",
       " 'isprintable',\n",
       " 'isspace',\n",
       " 'istitle',\n",
       " 'isupper',\n",
       " 'join',\n",
       " 'ljust',\n",
       " 'lower',\n",
       " 'lstrip',\n",
       " 'maketrans',\n",
       " 'partition',\n",
       " 'removeprefix',\n",
       " 'removesuffix',\n",
       " 'replace',\n",
       " 'rfind',\n",
       " 'rindex',\n",
       " 'rjust',\n",
       " 'rpartition',\n",
       " 'rsplit',\n",
       " 'rstrip',\n",
       " 'split',\n",
       " 'splitlines',\n",
       " 'startswith',\n",
       " 'strip',\n",
       " 'swapcase',\n",
       " 'title',\n",
       " 'translate',\n",
       " 'upper',\n",
       " 'zfill']"
      ]
     },
     "execution_count": 25,
     "metadata": {},
     "output_type": "execute_result"
    }
   ],
   "source": [
    "dir(str)\n"
   ]
  },
  {
   "cell_type": "markdown",
   "id": "d13ee464-7800-45bc-b880-a535dbd440c1",
   "metadata": {},
   "source": [
    "### Changing the Sentences or word to upper, lower , proper , swapcase and captilization"
   ]
  },
  {
   "cell_type": "code",
   "execution_count": 27,
   "id": "a42f6ced-5817-4eee-82d3-4eef58d175ac",
   "metadata": {},
   "outputs": [
    {
     "data": {
      "text/plain": [
       "'Welcome to excelr'"
      ]
     },
     "execution_count": 27,
     "metadata": {},
     "output_type": "execute_result"
    }
   ],
   "source": [
    "str1=\"welcome to excelr\"\n",
    "str1.capitalize()\n"
   ]
  },
  {
   "cell_type": "code",
   "execution_count": 28,
   "id": "3549f3de-b5da-42a1-8681-77dc0e5a7274",
   "metadata": {},
   "outputs": [
    {
     "data": {
      "text/plain": [
       "'welcome to excelr'"
      ]
     },
     "execution_count": 28,
     "metadata": {},
     "output_type": "execute_result"
    }
   ],
   "source": [
    "str1\n"
   ]
  },
  {
   "cell_type": "code",
   "execution_count": 29,
   "id": "4b9c196d-ae96-4bff-bce9-562f1e7969e9",
   "metadata": {},
   "outputs": [
    {
     "data": {
      "text/plain": [
       "'WELCOME TO EXCELR'"
      ]
     },
     "execution_count": 29,
     "metadata": {},
     "output_type": "execute_result"
    }
   ],
   "source": [
    "str1.upper()"
   ]
  },
  {
   "cell_type": "code",
   "execution_count": 30,
   "id": "c0af8f8e-c965-4711-8300-8632db1c3512",
   "metadata": {},
   "outputs": [
    {
     "data": {
      "text/plain": [
       "'welcome to excelr'"
      ]
     },
     "execution_count": 30,
     "metadata": {},
     "output_type": "execute_result"
    }
   ],
   "source": [
    "str1.lower()\n",
    "\n"
   ]
  },
  {
   "cell_type": "code",
   "execution_count": 31,
   "id": "91ce4277-26b6-4743-aa23-323113983ae2",
   "metadata": {},
   "outputs": [
    {
     "data": {
      "text/plain": [
       "'Welcome To Excelr'"
      ]
     },
     "execution_count": 31,
     "metadata": {},
     "output_type": "execute_result"
    }
   ],
   "source": [
    "str1.title()"
   ]
  },
  {
   "cell_type": "code",
   "execution_count": 33,
   "id": "ed8bcdd4-4207-4acc-a40e-15c0fcd944d4",
   "metadata": {},
   "outputs": [
    {
     "name": "stdout",
     "output_type": "stream",
     "text": [
      "bbB\n",
      "Qqqq\n"
     ]
    }
   ],
   "source": [
    "food=\"BBb\"\n",
    "name=\"qQQQ\"\n",
    "print(food.swapcase())\n",
    "print(name.swapcase())   #swapcase reverse the word capital to small case or small case to capital"
   ]
  },
  {
   "cell_type": "markdown",
   "id": "48dcff59-52f1-448e-811c-d3f1e469d804",
   "metadata": {},
   "source": [
    "# Split"
   ]
  },
  {
   "cell_type": "code",
   "execution_count": 34,
   "id": "a1e34b1f-4780-4893-b049-f29abb9d3608",
   "metadata": {},
   "outputs": [
    {
     "data": {
      "text/plain": [
       "['my', 'name', 'is', 'kedar']"
      ]
     },
     "execution_count": 34,
     "metadata": {},
     "output_type": "execute_result"
    }
   ],
   "source": [
    "s1=\"my name is kedar\"\n",
    "s1.split() #list of string is created and seperate with words by using commas"
   ]
  },
  {
   "cell_type": "code",
   "execution_count": 35,
   "id": "4f376c52-f554-4a86-91a1-9069c86b743a",
   "metadata": {},
   "outputs": [
    {
     "data": {
      "text/plain": [
       "['MUmbai-pune-kolhapur']"
      ]
     },
     "execution_count": 35,
     "metadata": {},
     "output_type": "execute_result"
    }
   ],
   "source": [
    "s2=\"MUmbai-pune-kolhapur\"\n",
    "s2.split()"
   ]
  },
  {
   "cell_type": "code",
   "execution_count": 36,
   "id": "0dc1b4e2-945c-4ea5-a7b5-0f61b345f1a1",
   "metadata": {},
   "outputs": [
    {
     "data": {
      "text/plain": [
       "['MUmbai', 'pune', 'kolhapur']"
      ]
     },
     "execution_count": 36,
     "metadata": {},
     "output_type": "execute_result"
    }
   ],
   "source": [
    "s2.split(\"-\")"
   ]
  },
  {
   "cell_type": "code",
   "execution_count": 37,
   "id": "52346736-6f16-4e8f-bd43-e11a008af45f",
   "metadata": {},
   "outputs": [
    {
     "data": {
      "text/plain": [
       "['jadhavv.vj31', 'gmail.com']"
      ]
     },
     "execution_count": 37,
     "metadata": {},
     "output_type": "execute_result"
    }
   ],
   "source": [
    "mail=\"jadhavv.vj31@gmail.com\"\n",
    "mail.split(\"@\")"
   ]
  },
  {
   "cell_type": "markdown",
   "id": "b6f494f5-d976-4d21-a03f-de7959d14c91",
   "metadata": {},
   "source": [
    "# Replace"
   ]
  },
  {
   "cell_type": "code",
   "execution_count": 38,
   "id": "03a75c2d-be3c-4556-84ed-edee031620cc",
   "metadata": {},
   "outputs": [
    {
     "data": {
      "text/plain": [
       "'my name is vivek'"
      ]
     },
     "execution_count": 38,
     "metadata": {},
     "output_type": "execute_result"
    }
   ],
   "source": [
    "s1.replace(\"kedar\",\"vivek\")"
   ]
  },
  {
   "cell_type": "code",
   "execution_count": 39,
   "id": "b99d0831-8eb5-418e-915a-50fb815151ad",
   "metadata": {},
   "outputs": [
    {
     "data": {
      "text/plain": [
       "'my name is kedar'"
      ]
     },
     "execution_count": 39,
     "metadata": {},
     "output_type": "execute_result"
    }
   ],
   "source": [
    "s1 # It does not affect on original sentence\n"
   ]
  },
  {
   "cell_type": "markdown",
   "id": "2e072b63-e669-499c-8331-4a8320e018a1",
   "metadata": {},
   "source": [
    "# Count"
   ]
  },
  {
   "cell_type": "code",
   "execution_count": 40,
   "id": "0457a34b-a204-447d-a148-c75e60edd8e5",
   "metadata": {},
   "outputs": [
    {
     "data": {
      "text/plain": [
       "3"
      ]
     },
     "execution_count": 40,
     "metadata": {},
     "output_type": "execute_result"
    }
   ],
   "source": [
    "city=\"satara\"\n",
    "city.count(\"a\")"
   ]
  },
  {
   "cell_type": "code",
   "execution_count": 42,
   "id": "5097a151-aeab-4c98-89d1-c49d1ff3e473",
   "metadata": {},
   "outputs": [
    {
     "data": {
      "text/plain": [
       "1"
      ]
     },
     "execution_count": 42,
     "metadata": {},
     "output_type": "execute_result"
    }
   ],
   "source": [
    "\"kedar\".count(\"a\")"
   ]
  },
  {
   "cell_type": "code",
   "execution_count": 45,
   "id": "5da7e762-a0fe-4ff6-acc1-856e2be0a7d1",
   "metadata": {},
   "outputs": [
    {
     "data": {
      "text/plain": [
       "50"
      ]
     },
     "execution_count": 45,
     "metadata": {},
     "output_type": "execute_result"
    }
   ],
   "source": [
    "n1=5\n",
    "n1*10 #n1 is a variable which have value 5 then we perform  n1*10  it automatically keep the value of that variable\n"
   ]
  },
  {
   "cell_type": "code",
   "execution_count": 60,
   "id": "16ecd6ff-04dd-4d3b-8753-01a184ae5124",
   "metadata": {},
   "outputs": [
    {
     "data": {
      "text/plain": [
       "'rajrajrajraj'"
      ]
     },
     "execution_count": 60,
     "metadata": {},
     "output_type": "execute_result"
    }
   ],
   "source": [
    "name=\"raj\"\n",
    "name*4   #we multiple the name varible value by 4 it print raj 4 times\n",
    " "
   ]
  },
  {
   "cell_type": "code",
   "execution_count": 46,
   "id": "545bdbb3-3c61-4064-966a-6d5005d054f5",
   "metadata": {},
   "outputs": [
    {
     "data": {
      "text/plain": [
       "'rajeshkulkarni'"
      ]
     },
     "execution_count": 46,
     "metadata": {},
     "output_type": "execute_result"
    }
   ],
   "source": [
    "name=\"rajesh\"\n",
    "surname=\"kulkarni\"\n",
    "name+surname            #we doing concatenate means we adding the 2 name by + operator\n"
   ]
  },
  {
   "cell_type": "code",
   "execution_count": 48,
   "id": "771ad6ed-f03b-4c86-b031-7911b8935b8a",
   "metadata": {},
   "outputs": [
    {
     "data": {
      "text/plain": [
       "'rajesh kulkarni'"
      ]
     },
     "execution_count": 48,
     "metadata": {},
     "output_type": "execute_result"
    }
   ],
   "source": [
    "name+\" \"+surname # In above rajesh kulkarni name there is no space between words"
   ]
  },
  {
   "cell_type": "markdown",
   "id": "1e31d07a-f62e-4a4b-ad79-2253577162fa",
   "metadata": {},
   "source": [
    "# Conditional formating"
   ]
  },
  {
   "cell_type": "code",
   "execution_count": 49,
   "id": "4fe90e49-1fb1-45e9-940b-31ca73c84f3e",
   "metadata": {},
   "outputs": [
    {
     "name": "stdout",
     "output_type": "stream",
     "text": [
      "In False Block :\n",
      "b is greater\n",
      "-10\n"
     ]
    }
   ],
   "source": [
    "#conditional formating\n",
    "a=10\n",
    "b=20\n",
    "if a>b:\n",
    "    print(\"In True Block :\")\n",
    "    print(\"a is greater \")\n",
    "    c=a+b\n",
    "    print(c)\n",
    "else:  \n",
    "    print(\"In False Block :\")\n",
    "    print(\"b is greater\")\n",
    "    c=a-b\n",
    "    print(c)\n",
    "    "
   ]
  },
  {
   "cell_type": "code",
   "execution_count": 53,
   "id": "bfb17b0a-93ac-4691-a9f8-b2509278ab90",
   "metadata": {},
   "outputs": [
    {
     "name": "stdout",
     "output_type": "stream",
     "text": [
      "b is greater 34763\n"
     ]
    }
   ],
   "source": [
    "a=5999\n",
    "b=34763\n",
    "if a>b:\n",
    "    print(\"a is greater\",a)\n",
    "else:\n",
    "    print(\"b is greater\",b)\n",
    "    "
   ]
  },
  {
   "cell_type": "code",
   "execution_count": 54,
   "id": "83fc560b-bf76-4d23-94e4-a8380dec21df",
   "metadata": {},
   "outputs": [
    {
     "name": "stdout",
     "output_type": "stream",
     "text": [
      "Hello from false if / else \n",
      "bye ... outside the block\n",
      "Net salary= 12000.0\n"
     ]
    }
   ],
   "source": [
    "salary=15000\n",
    "if(salary>15000):\n",
    "    tax=0.25\n",
    "    print(\"hello from true if\")\n",
    "else:\n",
    "    tax=0.20\n",
    "    print(\"Hello from false if / else \")\n",
    "print(\"bye ... outside the block\") #this print statement is outside of indendation\n",
    "net_sal = salary - tax * salary\n",
    "print(\"Net salary=\",net_sal)\n",
    "  \n",
    "    "
   ]
  },
  {
   "cell_type": "markdown",
   "id": "8ba9ac90-2bd4-47d9-a6c1-b88666ff6303",
   "metadata": {},
   "source": [
    "# Range"
   ]
  },
  {
   "cell_type": "code",
   "execution_count": 55,
   "id": "a272cf11-c62d-4ef9-9bc6-d185cd697ca2",
   "metadata": {},
   "outputs": [
    {
     "data": {
      "text/plain": [
       "range(5, 10)"
      ]
     },
     "execution_count": 55,
     "metadata": {},
     "output_type": "execute_result"
    }
   ],
   "source": [
    "#RANGE\n",
    "range(5,10)\n"
   ]
  },
  {
   "cell_type": "code",
   "execution_count": 56,
   "id": "d6a79948-c902-48ea-8265-4c218be2c8ed",
   "metadata": {},
   "outputs": [
    {
     "name": "stdout",
     "output_type": "stream",
     "text": [
      "Hello\n",
      "Hello\n",
      "Hello\n",
      "Hello\n"
     ]
    }
   ],
   "source": [
    "print(\"Hello\")\n",
    "print(\"Hello\")\n",
    "print(\"Hello\")\n",
    "print(\"Hello\")"
   ]
  },
  {
   "cell_type": "code",
   "execution_count": 57,
   "id": "4fc9864a-89fc-42c7-8d47-3f7810a40661",
   "metadata": {},
   "outputs": [
    {
     "name": "stdout",
     "output_type": "stream",
     "text": [
      "Hello\n",
      "Hello\n",
      "Hello\n"
     ]
    }
   ],
   "source": [
    "for num in range(0,3):\n",
    "    print(\"Hello\")"
   ]
  },
  {
   "cell_type": "markdown",
   "id": "c7712ac2-85cc-4180-aa4a-82170647169f",
   "metadata": {},
   "source": [
    "# For loop"
   ]
  },
  {
   "cell_type": "code",
   "execution_count": 58,
   "id": "1eaf83de-d79e-4205-a3e7-ae7130a8a191",
   "metadata": {},
   "outputs": [
    {
     "name": "stdout",
     "output_type": "stream",
     "text": [
      "5\n",
      "6\n",
      "7\n",
      "8\n",
      "9\n",
      "Bye\n"
     ]
    }
   ],
   "source": [
    "#FOR LOOP\n",
    "\n",
    "for i in range(5,10):\n",
    "    print(i)\n",
    "print(\"Bye\")  # Bye is outside of the Indentation that why execute every time   "
   ]
  },
  {
   "cell_type": "code",
   "execution_count": 59,
   "id": "5fffbfdd-793f-4e07-8652-86a6ff4a5ff4",
   "metadata": {},
   "outputs": [
    {
     "name": "stdout",
     "output_type": "stream",
     "text": [
      "1\n",
      "2\n",
      "3\n",
      "4\n",
      "5\n",
      "6\n",
      "7\n",
      "8\n",
      "9\n"
     ]
    }
   ],
   "source": [
    "for i in range(1,10):\n",
    "    print(i)\n"
   ]
  },
  {
   "cell_type": "code",
   "execution_count": 60,
   "id": "ec3ca080-593a-4533-9d25-9e336ccd117b",
   "metadata": {},
   "outputs": [
    {
     "name": "stdout",
     "output_type": "stream",
     "text": [
      "1\n",
      "3\n",
      "5\n",
      "7\n",
      "9\n",
      "11\n",
      "13\n",
      "15\n",
      "17\n",
      "19\n"
     ]
    }
   ],
   "source": [
    "#print odd numbers from 1  to 20\n",
    "for i in range (1,21,2):   #here in the index there are 3 parameter first one is (startstep,endstep,stepor diffrence between stpes)\n",
    "    print(i)"
   ]
  },
  {
   "cell_type": "code",
   "execution_count": 61,
   "id": "781d1d27-e344-465f-be78-0771cac54828",
   "metadata": {},
   "outputs": [
    {
     "name": "stdout",
     "output_type": "stream",
     "text": [
      "2\n",
      "4\n",
      "6\n",
      "8\n",
      "10\n",
      "12\n",
      "14\n",
      "16\n",
      "18\n"
     ]
    }
   ],
   "source": [
    "#Here are the 1 to 20 even number printed by the range function by using the step in range\n",
    "for i in range(2,20,2):\n",
    "    print(i)"
   ]
  },
  {
   "cell_type": "markdown",
   "id": "517f3128-12e0-4fff-b101-213ad9c49db7",
   "metadata": {},
   "source": [
    "# BREAK STATEMENT"
   ]
  },
  {
   "cell_type": "code",
   "execution_count": 62,
   "id": "db279c40-37d4-4661-8227-65446e662601",
   "metadata": {},
   "outputs": [
    {
     "name": "stdout",
     "output_type": "stream",
     "text": [
      "1\n",
      "2\n",
      "3\n",
      "4\n",
      "same\n"
     ]
    }
   ],
   "source": [
    "#BREAK STATEMENT = break statement are help us to stop the loop when condition is statisfied\n",
    "\n",
    "for i in range(1,11):\n",
    "    if i==5:\n",
    "        print(\"same\")\n",
    "        break  #break condition is satisfied when the condition is match or same condition is found\n",
    "    else:\n",
    "        print(i)"
   ]
  },
  {
   "cell_type": "code",
   "execution_count": 66,
   "id": "46321d5b-bfee-4cca-a275-1a442e5ad7b0",
   "metadata": {},
   "outputs": [
    {
     "name": "stdout",
     "output_type": "stream",
     "text": [
      "0 0\n",
      "0 0\n",
      "1 1\n",
      "1 1\n",
      "2 4\n",
      "2 8\n",
      "3 9\n",
      "3 27\n",
      "4 16\n",
      "4 64\n",
      "5 25\n",
      "5 125\n",
      "6 36\n",
      "6 216\n",
      "7 49\n",
      "7 343\n",
      "8 64\n",
      "8 512\n",
      "9 81\n",
      "9 729\n",
      "10 100\n",
      "10 1000\n"
     ]
    }
   ],
   "source": [
    "# for num in range(0,10):\n",
    "for num in range(11):\n",
    "    print(num,num*num)#num and its square\n",
    "    print(num,num**3)   #num and its cube\n",
    "   "
   ]
  },
  {
   "cell_type": "markdown",
   "id": "147b34f3-c308-4d7a-8122-81ae49a02fd0",
   "metadata": {},
   "source": [
    "# range(start,stop,step)"
   ]
  },
  {
   "cell_type": "code",
   "execution_count": 67,
   "id": "4588c37d-d864-4b95-8c8f-66550c76f0f4",
   "metadata": {},
   "outputs": [
    {
     "name": "stdout",
     "output_type": "stream",
     "text": [
      "1\n",
      "6\n",
      "11\n",
      "16\n",
      "21\n",
      "26\n"
     ]
    }
   ],
   "source": [
    "#range(start,stop,step)\n",
    "for i in range(1,31,5):\n",
    "    print(i)\n",
    "    # print(i,\"@\")"
   ]
  },
  {
   "cell_type": "code",
   "execution_count": 72,
   "id": "56de8bc2-62b6-44b9-b2bb-471ac54e613d",
   "metadata": {},
   "outputs": [
    {
     "name": "stdout",
     "output_type": "stream",
     "text": [
      "S\n",
      "c\n",
      "i\n",
      "e\n",
      "n\n",
      "c\n",
      "e\n"
     ]
    }
   ],
   "source": [
    "subject=\"Science\"\n",
    "for i in subject:\n",
    "   \n",
    "    print(i)\n",
    "    # print(i,end=\"\") #end are used for print science word in same line"
   ]
  },
  {
   "cell_type": "code",
   "execution_count": 79,
   "id": "a19803f5-8407-4908-bea9-50ffeb712779",
   "metadata": {},
   "outputs": [
    {
     "name": "stdout",
     "output_type": "stream",
     "text": [
      "vivek\n",
      "vivekvivek\n",
      "vivekvivekvivek\n",
      "vivekvivekvivekvivek\n",
      "vivekvivekvivekvivekvivek\n",
      "vivekvivekvivekvivekvivekvivek\n"
     ]
    }
   ],
   "source": [
    "name=\"vivek\"\n",
    "for i in range(1,7):\n",
    "    # print(i)\n",
    "    print(name * i) #we multiply the name varibale value means vivek by using the ireration in range (1,7) it print the value 6 times\n"
   ]
  },
  {
   "cell_type": "code",
   "execution_count": 82,
   "id": "4fe1eba5-a697-4ade-850a-2f75e3cfa2e4",
   "metadata": {},
   "outputs": [
    {
     "name": "stdout",
     "output_type": "stream",
     "text": [
      "vivek \n",
      "vivek vivek \n",
      "vivek vivek vivek \n",
      "vivek vivek vivek vivek \n",
      "vivek vivek vivek vivek vivek \n",
      "vivek vivek vivek vivek vivek vivek \n"
     ]
    }
   ],
   "source": [
    "name=\"vivek\"\n",
    "for i in range(1,7):\n",
    "    x = (name + \" \")*i\n",
    "    print(x)"
   ]
  },
  {
   "cell_type": "code",
   "execution_count": 102,
   "id": "74c340a8-f1ab-42ac-9c14-0ae400928137",
   "metadata": {},
   "outputs": [
    {
     "name": "stdout",
     "output_type": "stream",
     "text": [
      "dRISHYAM"
     ]
    }
   ],
   "source": [
    "# print each letter of movie on separate line\n",
    "# change case of each letter (upper to small and small to upper) of movie on single line with seperator ~\n",
    "movie=\"Drishyam\"\n",
    "for letter in movie:\n",
    "    #print(letter)\n",
    "    # print(letter.swapcase())\n",
    "    print(letter.swapcase(),end=\"\")"
   ]
  },
  {
   "cell_type": "code",
   "execution_count": 83,
   "id": "121abe13-17cb-4585-b298-18bdffb51d5d",
   "metadata": {},
   "outputs": [
    {
     "name": "stdout",
     "output_type": "stream",
     "text": [
      "Odd Number: 1\n",
      "Even Number: 2\n",
      "Odd Number: 3\n",
      "Even Number: 4\n",
      "Odd Number: 5\n",
      "Even Number: 6\n",
      "Odd Number: 7\n",
      "Even Number: 8\n",
      "Odd Number: 9\n",
      "Even Number: 10\n"
     ]
    }
   ],
   "source": [
    "for i in range (1,11):\n",
    "    if i % 2 == 0:\n",
    "        print('Even Number:',i) #this code are both execute the even and odd becoz one if condition are fail then the second condition are also perform\n",
    "    else:\n",
    "        print('Odd Number:',i)"
   ]
  },
  {
   "cell_type": "code",
   "execution_count": 84,
   "id": "36670265-63ab-4369-b4b6-6347417cf6fc",
   "metadata": {},
   "outputs": [
    {
     "name": "stdout",
     "output_type": "stream",
     "text": [
      "Even Numbers:\n",
      "2\n",
      "4\n",
      "6\n",
      "8\n",
      "10\n"
     ]
    }
   ],
   "source": [
    "print('Even Numbers:')\n",
    "for i in range(1,11):\n",
    "    if i % 2 == 0:\n",
    "        print(i)"
   ]
  },
  {
   "cell_type": "code",
   "execution_count": 85,
   "id": "3aebb9ad-ba28-46e3-9185-5656ce294511",
   "metadata": {},
   "outputs": [
    {
     "name": "stdout",
     "output_type": "stream",
     "text": [
      "Odd Number:\n",
      "1\n",
      "3\n",
      "5\n",
      "7\n",
      "9\n"
     ]
    }
   ],
   "source": [
    "print('Odd Number:')\n",
    "for i in range(1,11):\n",
    "    if i%2!=0: # != not equal to\n",
    "        print(i)"
   ]
  },
  {
   "cell_type": "code",
   "execution_count": 87,
   "id": "f5b72ef4-5114-4757-9dc7-3e2c94f36221",
   "metadata": {},
   "outputs": [
    {
     "name": "stdout",
     "output_type": "stream",
     "text": [
      "DDDD AAAA TTTT AAAA      SSSS CCCC IIII EEEE NNNN CCCC EEEE "
     ]
    }
   ],
   "source": [
    "#print each letter 4 times with seperator as space\n",
    "Course=\"DATA SCIENCE\"\n",
    "for i in Course:\n",
    "    print(i*4,\"\",end=\"\")\n"
   ]
  },
  {
   "cell_type": "markdown",
   "id": "a585a92a-79c9-4a46-aa9d-1a0b181da4dc",
   "metadata": {},
   "source": [
    "# length"
   ]
  },
  {
   "cell_type": "code",
   "execution_count": 88,
   "id": "5f2bf654-f0c1-4bbe-978e-38e300e8772b",
   "metadata": {},
   "outputs": [
    {
     "data": {
      "text/plain": [
       "7"
      ]
     },
     "execution_count": 88,
     "metadata": {},
     "output_type": "execute_result"
    }
   ],
   "source": [
    "len(\"My name\") # it also calculate space \n"
   ]
  },
  {
   "cell_type": "code",
   "execution_count": 89,
   "id": "c4011c52-b3be-4420-96a0-6e7a360064df",
   "metadata": {},
   "outputs": [
    {
     "data": {
      "text/plain": [
       "10"
      ]
     },
     "execution_count": 89,
     "metadata": {},
     "output_type": "execute_result"
    }
   ],
   "source": [
    "len(\"vivek\"\"kedar\")"
   ]
  },
  {
   "cell_type": "markdown",
   "id": "f6c74983-ee21-44bc-ac8f-97ca3653fb6e",
   "metadata": {},
   "source": [
    "# 1 List"
   ]
  },
  {
   "cell_type": "code",
   "execution_count": 90,
   "id": "deed200f-bf8b-4040-b666-0d5f0c48663b",
   "metadata": {},
   "outputs": [
    {
     "data": {
      "text/plain": [
       "[40, 55, 70, 55, 348, 34, 55, 34]"
      ]
     },
     "execution_count": 90,
     "metadata": {},
     "output_type": "execute_result"
    }
   ],
   "source": [
    "#lIST are mutable / changable we can add element in list \n",
    "#Lists created using the square brackets[]\n",
    "marks = [40,55,70,55,348,34,55,34]\n",
    "marks"
   ]
  },
  {
   "cell_type": "code",
   "execution_count": 91,
   "id": "c85cbeba-7f4b-44e2-8dd8-29c4e5827106",
   "metadata": {},
   "outputs": [
    {
     "data": {
      "text/plain": [
       "list"
      ]
     },
     "execution_count": 91,
     "metadata": {},
     "output_type": "execute_result"
    }
   ],
   "source": [
    "type(marks)"
   ]
  },
  {
   "cell_type": "code",
   "execution_count": 92,
   "id": "3fdc327e-4789-4d4a-850a-e92144494fe3",
   "metadata": {},
   "outputs": [
    {
     "data": {
      "text/plain": [
       "list"
      ]
     },
     "execution_count": 92,
     "metadata": {},
     "output_type": "execute_result"
    }
   ],
   "source": [
    "l1=[23,34,4,45,34.3]\n",
    "type(l1)"
   ]
  },
  {
   "cell_type": "code",
   "execution_count": 96,
   "id": "2de9cb4b-9525-4b0a-abc5-66812bc9ce97",
   "metadata": {},
   "outputs": [
    {
     "data": {
      "text/plain": [
       "['__add__',\n",
       " '__class__',\n",
       " '__class_getitem__',\n",
       " '__contains__',\n",
       " '__delattr__',\n",
       " '__delitem__',\n",
       " '__dir__',\n",
       " '__doc__',\n",
       " '__eq__',\n",
       " '__format__',\n",
       " '__ge__',\n",
       " '__getattribute__',\n",
       " '__getitem__',\n",
       " '__getstate__',\n",
       " '__gt__',\n",
       " '__hash__',\n",
       " '__iadd__',\n",
       " '__imul__',\n",
       " '__init__',\n",
       " '__init_subclass__',\n",
       " '__iter__',\n",
       " '__le__',\n",
       " '__len__',\n",
       " '__lt__',\n",
       " '__mul__',\n",
       " '__ne__',\n",
       " '__new__',\n",
       " '__reduce__',\n",
       " '__reduce_ex__',\n",
       " '__repr__',\n",
       " '__reversed__',\n",
       " '__rmul__',\n",
       " '__setattr__',\n",
       " '__setitem__',\n",
       " '__sizeof__',\n",
       " '__str__',\n",
       " '__subclasshook__',\n",
       " 'append',\n",
       " 'clear',\n",
       " 'copy',\n",
       " 'count',\n",
       " 'extend',\n",
       " 'index',\n",
       " 'insert',\n",
       " 'pop',\n",
       " 'remove',\n",
       " 'reverse',\n",
       " 'sort']"
      ]
     },
     "execution_count": 96,
     "metadata": {},
     "output_type": "execute_result"
    }
   ],
   "source": [
    "dir(list)"
   ]
  },
  {
   "cell_type": "code",
   "execution_count": 97,
   "id": "8e6e4ec4-de34-4375-b4d6-28f0c6addc8e",
   "metadata": {},
   "outputs": [
    {
     "data": {
      "text/plain": [
       "8"
      ]
     },
     "execution_count": 97,
     "metadata": {},
     "output_type": "execute_result"
    }
   ],
   "source": [
    "len(marks)"
   ]
  },
  {
   "cell_type": "code",
   "execution_count": 98,
   "id": "90b277f6-866f-449a-8b6d-f520ba6a9ec6",
   "metadata": {},
   "outputs": [
    {
     "data": {
      "text/plain": [
       "[34, 34, 40, 55, 55, 55, 70, 348]"
      ]
     },
     "execution_count": 98,
     "metadata": {},
     "output_type": "execute_result"
    }
   ],
   "source": [
    "sorted(marks) #sorted small to large by default"
   ]
  },
  {
   "cell_type": "code",
   "execution_count": 99,
   "id": "6992f12f-1116-4f48-8884-7e9e41c23622",
   "metadata": {},
   "outputs": [
    {
     "data": {
      "text/plain": [
       "[40, 55, 70, 55, 348, 34, 55, 34]"
      ]
     },
     "execution_count": 99,
     "metadata": {},
     "output_type": "execute_result"
    }
   ],
   "source": [
    "marks #this changes are not affect on the orignal list"
   ]
  },
  {
   "cell_type": "code",
   "execution_count": 100,
   "id": "05285bdc-50d8-4554-ac6f-684829908fa2",
   "metadata": {},
   "outputs": [
    {
     "data": {
      "text/plain": [
       "[34, 34, 40, 55, 55, 55, 70, 348]"
      ]
     },
     "execution_count": 100,
     "metadata": {},
     "output_type": "execute_result"
    }
   ],
   "source": [
    "new_marks=sorted(marks) #new sorted list created original marks list are remains unchanged\n",
    "new_marks"
   ]
  },
  {
   "cell_type": "code",
   "execution_count": 101,
   "id": "bf85b138-32d5-460e-8cce-36c3e9e0a54e",
   "metadata": {},
   "outputs": [
    {
     "data": {
      "text/plain": [
       "[40, 55, 70, 55, 348, 34, 55, 34]"
      ]
     },
     "execution_count": 101,
     "metadata": {},
     "output_type": "execute_result"
    }
   ],
   "source": [
    "marks"
   ]
  },
  {
   "cell_type": "code",
   "execution_count": 102,
   "id": "84944a00-6f36-46c7-b119-3980450552ba",
   "metadata": {},
   "outputs": [],
   "source": [
    "marks.sort()  # original list is sorted in ascending order by default"
   ]
  },
  {
   "cell_type": "code",
   "execution_count": 103,
   "id": "2a870299-a98b-4b9f-b627-6da10b58793b",
   "metadata": {},
   "outputs": [
    {
     "data": {
      "text/plain": [
       "[34, 34, 40, 55, 55, 55, 70, 348]"
      ]
     },
     "execution_count": 103,
     "metadata": {},
     "output_type": "execute_result"
    }
   ],
   "source": [
    "marks"
   ]
  },
  {
   "cell_type": "code",
   "execution_count": 104,
   "id": "7e6c3335-c38d-4ad3-b12d-26839e36c656",
   "metadata": {},
   "outputs": [
    {
     "data": {
      "text/plain": [
       "[34, 34, 40, 55, 55, 55, 70, 348]"
      ]
     },
     "execution_count": 104,
     "metadata": {},
     "output_type": "execute_result"
    }
   ],
   "source": [
    "marks"
   ]
  },
  {
   "cell_type": "code",
   "execution_count": 105,
   "id": "4d410181-f27b-443c-871d-af5fed1e1eb8",
   "metadata": {},
   "outputs": [
    {
     "data": {
      "text/plain": [
       "['e', 'i', 'k', 'v', 'v']"
      ]
     },
     "execution_count": 105,
     "metadata": {},
     "output_type": "execute_result"
    }
   ],
   "source": [
    "name=\"vivek\"\n",
    "sorted(name)"
   ]
  },
  {
   "cell_type": "code",
   "execution_count": 106,
   "id": "19f5c937-4873-4343-b034-50244a0aa8a8",
   "metadata": {},
   "outputs": [
    {
     "data": {
      "text/plain": [
       "[34, 34, 40, 55, 55, 55, 70, 348, 5632]"
      ]
     },
     "execution_count": 106,
     "metadata": {},
     "output_type": "execute_result"
    }
   ],
   "source": [
    "marks.append(5632)#Append will add element in the last to the list \n",
    "marks"
   ]
  },
  {
   "cell_type": "code",
   "execution_count": 107,
   "id": "15a106d9-f807-498e-a653-588f4bbf7acc",
   "metadata": {},
   "outputs": [],
   "source": [
    "marks.reverse() #it reverse the list"
   ]
  },
  {
   "cell_type": "code",
   "execution_count": 108,
   "id": "08760f10-4c27-4de1-8480-584258059a49",
   "metadata": {},
   "outputs": [
    {
     "data": {
      "text/plain": [
       "[5632, 348, 70, 55, 55, 55, 40, 34, 34]"
      ]
     },
     "execution_count": 108,
     "metadata": {},
     "output_type": "execute_result"
    }
   ],
   "source": [
    "marks"
   ]
  },
  {
   "cell_type": "code",
   "execution_count": 110,
   "id": "42a6a901-6a24-479f-8f83-8ea5a580e80e",
   "metadata": {},
   "outputs": [],
   "source": [
    "marks2=[32,45,67,78]\n",
    "marks2.sort(reverse=True) #sorts in descending order when reverse=True is used it do permanent changes in the list"
   ]
  },
  {
   "cell_type": "code",
   "execution_count": 111,
   "id": "9ad8acac-a0d2-46af-bf11-dde02c5c71b6",
   "metadata": {},
   "outputs": [
    {
     "data": {
      "text/plain": [
       "[78, 67, 45, 32]"
      ]
     },
     "execution_count": 111,
     "metadata": {},
     "output_type": "execute_result"
    }
   ],
   "source": [
    "marks2"
   ]
  },
  {
   "cell_type": "markdown",
   "id": "9013cff8-16b3-4c92-9a6e-14c4fad21e2f",
   "metadata": {},
   "source": [
    "### marks2.sort(reverse=False) #sorts in descending order when reverse=True marks2"
   ]
  },
  {
   "cell_type": "code",
   "execution_count": 133,
   "id": "74f58d5a-9cc5-4440-b8a4-6aa207098b9b",
   "metadata": {},
   "outputs": [
    {
     "data": {
      "text/plain": [
       "<function list.sort(*, key=None, reverse=False)>"
      ]
     },
     "execution_count": 133,
     "metadata": {},
     "output_type": "execute_result"
    }
   ],
   "source": [
    "marks3=[43,55,86,28,68]\n",
    "marks3.sort  # (reverse=False) #by default it sort list data in ascending order"
   ]
  },
  {
   "cell_type": "code",
   "execution_count": 134,
   "id": "ea0107d4-13aa-419e-a67e-3950a5f815c0",
   "metadata": {},
   "outputs": [
    {
     "data": {
      "text/plain": [
       "[43, 55, 86, 28, 68]"
      ]
     },
     "execution_count": 134,
     "metadata": {},
     "output_type": "execute_result"
    }
   ],
   "source": [
    "marks3"
   ]
  },
  {
   "cell_type": "code",
   "execution_count": 135,
   "id": "ced9002f-ef04-48fe-aaab-11412287d761",
   "metadata": {},
   "outputs": [],
   "source": [
    "marks3.insert(2,95) #insert 2,95 at the end of the list"
   ]
  },
  {
   "cell_type": "code",
   "execution_count": 136,
   "id": "a9cd5767-db90-4715-862e-21d18980feb4",
   "metadata": {},
   "outputs": [
    {
     "data": {
      "text/plain": [
       "[43, 55, 95, 86, 28, 68]"
      ]
     },
     "execution_count": 136,
     "metadata": {},
     "output_type": "execute_result"
    }
   ],
   "source": [
    "marks3"
   ]
  },
  {
   "cell_type": "code",
   "execution_count": 137,
   "id": "aaaca72d-e1af-4caf-ae33-e086fc3e6052",
   "metadata": {},
   "outputs": [
    {
     "data": {
      "text/plain": [
       "[34, 34, 40, 55, 55, 55, 70, 348, 5632]"
      ]
     },
     "execution_count": 137,
     "metadata": {},
     "output_type": "execute_result"
    }
   ],
   "source": [
    "marks"
   ]
  },
  {
   "cell_type": "code",
   "execution_count": 139,
   "id": "942c7cae-55b8-464f-ae8b-1d51d20f9f45",
   "metadata": {},
   "outputs": [
    {
     "data": {
      "text/plain": [
       "False"
      ]
     },
     "execution_count": 139,
     "metadata": {},
     "output_type": "execute_result"
    }
   ],
   "source": [
    "90 in marks # it check the value we say it is persent or not "
   ]
  },
  {
   "cell_type": "code",
   "execution_count": 140,
   "id": "35c423a8-c588-4a59-97eb-efe17c07f3b6",
   "metadata": {},
   "outputs": [
    {
     "data": {
      "text/plain": [
       "True"
      ]
     },
     "execution_count": 140,
     "metadata": {},
     "output_type": "execute_result"
    }
   ],
   "source": [
    "34 in marks"
   ]
  },
  {
   "cell_type": "code",
   "execution_count": 141,
   "id": "24ddd049-f985-4080-b71a-0c9351008a91",
   "metadata": {},
   "outputs": [
    {
     "data": {
      "text/plain": [
       "[10, 20, 30, 40, 50, 60]"
      ]
     },
     "execution_count": 141,
     "metadata": {},
     "output_type": "execute_result"
    }
   ],
   "source": [
    "list1=[10,20,30]\n",
    "list2=[40,50,60]\n",
    "list1 + list2 #concatenation or merging of two lists"
   ]
  },
  {
   "cell_type": "code",
   "execution_count": 142,
   "id": "7e59dd23-ee65-4b5c-a985-94553d6a70ab",
   "metadata": {},
   "outputs": [
    {
     "data": {
      "text/plain": [
       "[10, 20, 30, 40, 50, 60, 10, 20, 30, 40, 50, 60, 10, 20, 30, 40, 50, 60]"
      ]
     },
     "execution_count": 142,
     "metadata": {},
     "output_type": "execute_result"
    }
   ],
   "source": [
    "(list1 + list2)*3 #repeats 3 times"
   ]
  },
  {
   "cell_type": "code",
   "execution_count": 234,
   "id": "91a190d1-0a3f-4801-a974-84e0831089df",
   "metadata": {},
   "outputs": [
    {
     "data": {
      "text/plain": [
       "['pen', 'pencil', 'sharpner']"
      ]
     },
     "execution_count": 234,
     "metadata": {},
     "output_type": "execute_result"
    }
   ],
   "source": [
    "stationary=['pen','pencil','sharpner'] #it is also list of the words / strings\n",
    "stationary"
   ]
  },
  {
   "cell_type": "code",
   "execution_count": 235,
   "id": "1bbcee5c-b3d5-4f67-8c91-57256aacf3da",
   "metadata": {},
   "outputs": [
    {
     "data": {
      "text/plain": [
       "3"
      ]
     },
     "execution_count": 235,
     "metadata": {},
     "output_type": "execute_result"
    }
   ],
   "source": [
    "len(stationary)\n",
    "\n"
   ]
  },
  {
   "cell_type": "code",
   "execution_count": 236,
   "id": "2d85708a-d93c-485f-a859-c739f0ff1dba",
   "metadata": {},
   "outputs": [],
   "source": [
    "stationary.append(\"color box\")"
   ]
  },
  {
   "cell_type": "code",
   "execution_count": 237,
   "id": "a80d6c84-a0c0-4c2c-90b0-75e997a02a78",
   "metadata": {},
   "outputs": [
    {
     "data": {
      "text/plain": [
       "['pen', 'pencil', 'sharpner', 'color box']"
      ]
     },
     "execution_count": 237,
     "metadata": {},
     "output_type": "execute_result"
    }
   ],
   "source": [
    "stationary"
   ]
  },
  {
   "cell_type": "code",
   "execution_count": 238,
   "id": "ecf1734f-de09-446e-8e73-211d4f64bf7f",
   "metadata": {},
   "outputs": [
    {
     "data": {
      "text/plain": [
       "4"
      ]
     },
     "execution_count": 238,
     "metadata": {},
     "output_type": "execute_result"
    }
   ],
   "source": [
    "len(stationary)"
   ]
  },
  {
   "cell_type": "code",
   "execution_count": 239,
   "id": "9aff494a-6d01-4452-b7c0-a7de6a5b180f",
   "metadata": {},
   "outputs": [],
   "source": [
    "stationary.append([\"notebook\",\"book\"]) #we add 2 element in list but in [] it is known as sub list of list when we check length it give 5"
   ]
  },
  {
   "cell_type": "code",
   "execution_count": 240,
   "id": "b76193c6-91dd-4ba8-9404-a850b128150f",
   "metadata": {},
   "outputs": [
    {
     "data": {
      "text/plain": [
       "['pen', 'pencil', 'sharpner', 'color box', ['notebook', 'book']]"
      ]
     },
     "execution_count": 240,
     "metadata": {},
     "output_type": "execute_result"
    }
   ],
   "source": [
    "stationary"
   ]
  },
  {
   "cell_type": "code",
   "execution_count": 241,
   "id": "44d2bf8a-6d84-4930-bc22-fea25034cc1a",
   "metadata": {},
   "outputs": [
    {
     "data": {
      "text/plain": [
       "5"
      ]
     },
     "execution_count": 241,
     "metadata": {},
     "output_type": "execute_result"
    }
   ],
   "source": [
    "len(stationary)"
   ]
  },
  {
   "cell_type": "code",
   "execution_count": 242,
   "id": "62ce786c-0dd1-46b0-94da-abc8c881a7fa",
   "metadata": {},
   "outputs": [
    {
     "data": {
      "text/plain": [
       "'pencil'"
      ]
     },
     "execution_count": 242,
     "metadata": {},
     "output_type": "execute_result"
    }
   ],
   "source": [
    "stationary.pop(1) #index 1 element will be removed from list"
   ]
  },
  {
   "cell_type": "code",
   "execution_count": 243,
   "id": "f6391318-fe07-42ff-99b3-f4bf883118c3",
   "metadata": {},
   "outputs": [
    {
     "data": {
      "text/plain": [
       "['pen', 'sharpner', 'color box', ['notebook', 'book']]"
      ]
     },
     "execution_count": 243,
     "metadata": {},
     "output_type": "execute_result"
    }
   ],
   "source": [
    "stationary"
   ]
  },
  {
   "cell_type": "code",
   "execution_count": 244,
   "id": "4e1861a7-928b-44e2-8e67-a9cc938000f8",
   "metadata": {},
   "outputs": [],
   "source": [
    "stationary.append(\"pencil\") #only one list element will be added"
   ]
  },
  {
   "cell_type": "code",
   "execution_count": 245,
   "id": "1541d7ab-c235-4e3b-83fc-ca9998be6d93",
   "metadata": {},
   "outputs": [
    {
     "data": {
      "text/plain": [
       "['pen', 'sharpner', 'color box', ['notebook', 'book'], 'pencil']"
      ]
     },
     "execution_count": 245,
     "metadata": {},
     "output_type": "execute_result"
    }
   ],
   "source": [
    "stationary\n"
   ]
  },
  {
   "cell_type": "code",
   "execution_count": 246,
   "id": "9df12a67-4b3d-48b1-9a7c-fc66e2144706",
   "metadata": {},
   "outputs": [
    {
     "data": {
      "text/plain": [
       "['pen', 'sharpner', 'color box', ['notebook', 'book']]"
      ]
     },
     "execution_count": 246,
     "metadata": {},
     "output_type": "execute_result"
    }
   ],
   "source": [
    "stationary.pop()  #if index no. is not mentioned pop() removes the last element\n",
    "stationary"
   ]
  },
  {
   "cell_type": "code",
   "execution_count": 247,
   "id": "80bc463d-7e09-4545-b38c-72197540015c",
   "metadata": {},
   "outputs": [
    {
     "data": {
      "text/plain": [
       "['pen',\n",
       " 'sharpner',\n",
       " 'color box',\n",
       " ['notebook', 'book'],\n",
       " 'writing_pad',\n",
       " 'textbook',\n",
       " 'eraser']"
      ]
     },
     "execution_count": 247,
     "metadata": {},
     "output_type": "execute_result"
    }
   ],
   "source": [
    "#to add multiple items use extend()\n",
    "stationary.extend(['writing_pad','textbook','eraser'])\n",
    "stationary"
   ]
  },
  {
   "cell_type": "code",
   "execution_count": 248,
   "id": "7d89db76-8425-4a21-bf37-cf58d428a7b9",
   "metadata": {},
   "outputs": [
    {
     "data": {
      "text/plain": [
       "7"
      ]
     },
     "execution_count": 248,
     "metadata": {},
     "output_type": "execute_result"
    }
   ],
   "source": [
    "len(stationary)"
   ]
  },
  {
   "cell_type": "code",
   "execution_count": 249,
   "id": "d530ce52-a0fc-472e-8fe3-3860cc011270",
   "metadata": {},
   "outputs": [
    {
     "data": {
      "text/plain": [
       "['pen',\n",
       " 'sharpner',\n",
       " 'color box',\n",
       " ['notebook', 'book'],\n",
       " 'writing_pad',\n",
       " 'textbook']"
      ]
     },
     "execution_count": 249,
     "metadata": {},
     "output_type": "execute_result"
    }
   ],
   "source": [
    "stationary.remove('eraser')  #will remove mentioned element name from list\n",
    "stationary"
   ]
  },
  {
   "cell_type": "code",
   "execution_count": 250,
   "id": "d8820207-8cd0-42b5-b61c-818a40af8265",
   "metadata": {},
   "outputs": [
    {
     "data": {
      "text/plain": [
       "6"
      ]
     },
     "execution_count": 250,
     "metadata": {},
     "output_type": "execute_result"
    }
   ],
   "source": [
    "len(stationary)"
   ]
  },
  {
   "cell_type": "code",
   "execution_count": 252,
   "id": "ef6916c2-37d7-4263-b1e8-03fdfaaa394a",
   "metadata": {},
   "outputs": [
    {
     "data": {
      "text/plain": [
       "5"
      ]
     },
     "execution_count": 252,
     "metadata": {},
     "output_type": "execute_result"
    }
   ],
   "source": [
    "stationary.index('textbook')"
   ]
  },
  {
   "cell_type": "markdown",
   "id": "88719cbb-c1e8-4c97-aec9-bebb6fe3412a",
   "metadata": {},
   "source": [
    "# elif (Multiple ifs)"
   ]
  },
  {
   "cell_type": "code",
   "execution_count": 254,
   "id": "80fdfdb3-561e-4c11-bc25-0cffba333361",
   "metadata": {},
   "outputs": [
    {
     "name": "stdin",
     "output_type": "stream",
     "text": [
      "Enter a number: 0\n"
     ]
    },
    {
     "name": "stdout",
     "output_type": "stream",
     "text": [
      "It's zero\n"
     ]
    }
   ],
   "source": [
    "'''\n",
    "if conditon:\n",
    "--- things to do when condition is true\n",
    "else:\n",
    "---things to do when condition is false\n",
    "'''\n",
    "\n",
    "#elif - multiple conditions\n",
    "#num = 8 # try 0, 5\n",
    "num = int(input(\"Enter a number:\"))\n",
    "if num > 0:\n",
    "    print(\"positive\")\n",
    "elif num == 0:\n",
    "    print(\"It's zero\")\n",
    "else:\n",
    "    print(\"Negative\")"
   ]
  },
  {
   "cell_type": "markdown",
   "id": "9d2200e7-4f99-403b-a32f-83e3bbb40aed",
   "metadata": {},
   "source": [
    "### Get input from user and find grades"
   ]
  },
  {
   "cell_type": "code",
   "execution_count": 259,
   "id": "164fda37-a27e-4d02-b351-14c7c2c0e8e1",
   "metadata": {},
   "outputs": [
    {
     "name": "stdin",
     "output_type": "stream",
     "text": [
      "Enter your name: kedar\n"
     ]
    }
   ],
   "source": [
    "name = input(\"Enter your name:\") #while taking input it may get time to execute or laptop may hang . then assign value directly to a variable"
   ]
  },
  {
   "cell_type": "code",
   "execution_count": 260,
   "id": "8088769b-d437-47b4-b93d-a910fd203e0d",
   "metadata": {},
   "outputs": [
    {
     "data": {
      "text/plain": [
       "'kedar'"
      ]
     },
     "execution_count": 260,
     "metadata": {},
     "output_type": "execute_result"
    }
   ],
   "source": [
    "name"
   ]
  },
  {
   "cell_type": "code",
   "execution_count": 262,
   "id": "ce4366f7-e925-48e3-b136-c24c5bb57d5f",
   "metadata": {},
   "outputs": [
    {
     "name": "stdin",
     "output_type": "stream",
     "text": [
      "Enter Marks: 80\n"
     ]
    }
   ],
   "source": [
    "marks = input(\"Enter Marks:\")"
   ]
  },
  {
   "cell_type": "code",
   "execution_count": 263,
   "id": "8428c470-5c20-4601-a6ee-8e29b15013aa",
   "metadata": {},
   "outputs": [
    {
     "data": {
      "text/plain": [
       "'80'"
      ]
     },
     "execution_count": 263,
     "metadata": {},
     "output_type": "execute_result"
    }
   ],
   "source": [
    "marks"
   ]
  },
  {
   "cell_type": "code",
   "execution_count": 264,
   "id": "4b36ef73-ba1e-432f-acad-c2b3fbd342cf",
   "metadata": {},
   "outputs": [],
   "source": [
    "age = 30"
   ]
  },
  {
   "cell_type": "code",
   "execution_count": 265,
   "id": "0d655567-34a3-4c5c-89db-d1a65bc8e0ff",
   "metadata": {},
   "outputs": [
    {
     "data": {
      "text/plain": [
       "40"
      ]
     },
     "execution_count": 265,
     "metadata": {},
     "output_type": "execute_result"
    }
   ],
   "source": [
    "age + 10"
   ]
  },
  {
   "cell_type": "code",
   "execution_count": 266,
   "id": "f7de72d2-5b2e-4576-9d65-315600011949",
   "metadata": {},
   "outputs": [
    {
     "ename": "TypeError",
     "evalue": "can only concatenate str (not \"int\") to str",
     "output_type": "error",
     "traceback": [
      "\u001b[1;31m---------------------------------------------------------------------------\u001b[0m",
      "\u001b[1;31mTypeError\u001b[0m                                 Traceback (most recent call last)",
      "Cell \u001b[1;32mIn[266], line 1\u001b[0m\n\u001b[1;32m----> 1\u001b[0m marks \u001b[38;5;241m+\u001b[39m \u001b[38;5;241m10\u001b[39m\n",
      "\u001b[1;31mTypeError\u001b[0m: can only concatenate str (not \"int\") to str"
     ]
    }
   ],
   "source": [
    "marks + 10 #guess the output"
   ]
  },
  {
   "cell_type": "code",
   "execution_count": 267,
   "id": "5c057001-8cbd-4fe2-9e3f-6a1690da5503",
   "metadata": {},
   "outputs": [
    {
     "name": "stdin",
     "output_type": "stream",
     "text": [
      "Enter age :  10\n"
     ]
    }
   ],
   "source": [
    "# output is coming in quotation i.e. it is treated as string. You have to convert it to number.\n",
    "# instead of doing it in 2 steps, while accepting input only we can convert it to integer.\n",
    "\n",
    "age = int(input(\"Enter age : \")) "
   ]
  },
  {
   "cell_type": "code",
   "execution_count": 268,
   "id": "6869cccf-7dae-4051-883d-4e0dae291b1a",
   "metadata": {},
   "outputs": [
    {
     "data": {
      "text/plain": [
       "10"
      ]
     },
     "execution_count": 268,
     "metadata": {},
     "output_type": "execute_result"
    }
   ],
   "source": [
    "age\n"
   ]
  },
  {
   "cell_type": "code",
   "execution_count": 269,
   "id": "a4dc0323-fbda-49c9-82b2-da69f6524653",
   "metadata": {},
   "outputs": [
    {
     "data": {
      "text/plain": [
       "30"
      ]
     },
     "execution_count": 269,
     "metadata": {},
     "output_type": "execute_result"
    }
   ],
   "source": [
    "age + 20"
   ]
  },
  {
   "cell_type": "code",
   "execution_count": 273,
   "id": "3ed5748f-b85c-46ec-bfcc-06363ccd761a",
   "metadata": {},
   "outputs": [
    {
     "name": "stdin",
     "output_type": "stream",
     "text": [
      "Enter a number: 14\n"
     ]
    },
    {
     "name": "stdout",
     "output_type": "stream",
     "text": [
      "14\n",
      "You Won , it is divisible by 7\n"
     ]
    }
   ],
   "source": [
    "# accept a number from user, if it is divisible by 7 display \"You win\" else display \"Sorry, try again\"\n",
    "num = int(input(\"Enter a number:\"))\n",
    "print(num)\n",
    "if num % 7 == 0:\n",
    " print(\"You Won , it is divisible by 7\")\n",
    "else:\n",
    " print(\"sorry,try again\")   "
   ]
  },
  {
   "cell_type": "code",
   "execution_count": 278,
   "id": "2e906576-19a1-4d5c-bb37-71c6a65ecfcb",
   "metadata": {},
   "outputs": [
    {
     "name": "stdin",
     "output_type": "stream",
     "text": [
      "Enter your marks : 58\n"
     ]
    },
    {
     "name": "stdout",
     "output_type": "stream",
     "text": [
      "pass\n"
     ]
    }
   ],
   "source": [
    "# accept marks, if marks>=80 print \"Distinction\", if between 60-80 print \"First class\",\n",
    "# if between 40-60 print \"Pass\", if less than 40 print\"Fail\"\n",
    "\n",
    "marks=int(input(\"Enter your marks :\"))\n",
    "if marks>=80:\n",
    "    print(\"Distinction\")\n",
    "elif marks>=60:\n",
    "    print(\"First class\")\n",
    "elif marks>=40:\n",
    "    print(\"pass\")\n",
    "else:\n",
    "    print(\"Fail\")\n"
   ]
  },
  {
   "cell_type": "markdown",
   "id": "96bd9d18-07d8-48a7-99fd-71d0034ac4ea",
   "metadata": {},
   "source": [
    "## For Loop"
   ]
  },
  {
   "cell_type": "code",
   "execution_count": 282,
   "id": "8cf18894-3405-4c5b-8669-22ae8f4738a4",
   "metadata": {},
   "outputs": [
    {
     "name": "stdout",
     "output_type": "stream",
     "text": [
      "34 -->Fail\n",
      "55 -->Pass\n",
      "77 -->First Class\n",
      "95 -->Distinction\n",
      "20 -->Fail\n",
      "65 -->First Class\n"
     ]
    }
   ],
   "source": [
    "mrklist = [34,55,77,95,20,65]\n",
    "for marks in mrklist:\n",
    "    if marks >=80:\n",
    "        print(marks,\"-->Distinction\")\n",
    "    elif marks >=60:\n",
    "        print(marks,\"-->First Class\")\n",
    "    elif marks >=40:\n",
    "        print(marks,\"-->Pass\")\n",
    "    else:    \n",
    "        print(marks,\"-->Fail\")\n",
    "\n",
    "        "
   ]
  },
  {
   "cell_type": "markdown",
   "id": "652a1dfd-8283-43f5-bbad-6c024a521db8",
   "metadata": {},
   "source": [
    "# While loop"
   ]
  },
  {
   "cell_type": "code",
   "execution_count": 2,
   "id": "1438e690-de14-44b2-8559-9baf1ad3fd7d",
   "metadata": {},
   "outputs": [
    {
     "name": "stdout",
     "output_type": "stream",
     "text": [
      "Hello World\n",
      "Hello World\n",
      "Hello World\n",
      "Hello World\n",
      "Hello World\n"
     ]
    }
   ],
   "source": [
    "#While loop : Print Hello for 5 times\n",
    "cnt = 1\n",
    "while cnt < 6 :\n",
    "    print(\"Hello World\")\n",
    "    cnt = cnt + 1 \n",
    "    "
   ]
  },
  {
   "cell_type": "markdown",
   "id": "e50b3255-f436-4f44-b3c6-0360ac26c513",
   "metadata": {},
   "source": [
    "# Write user define function"
   ]
  },
  {
   "cell_type": "code",
   "execution_count": 2,
   "id": "327cc413-0d21-4847-8cbb-a8e5cf90821a",
   "metadata": {},
   "outputs": [],
   "source": [
    "# Write a square function\n",
    "# Function Definition\n",
    "def square(x):\n",
    "    return x*x # or return x**2 "
   ]
  },
  {
   "cell_type": "code",
   "execution_count": 3,
   "id": "529ecd38-bd9d-49f4-aec0-12e7119c17b8",
   "metadata": {},
   "outputs": [
    {
     "data": {
      "text/plain": [
       "225"
      ]
     },
     "execution_count": 3,
     "metadata": {},
     "output_type": "execute_result"
    }
   ],
   "source": [
    "#call a function\n",
    "square(15)"
   ]
  },
  {
   "cell_type": "code",
   "execution_count": 4,
   "id": "aaae325d-b4b8-448e-ad13-e18d74a6a6f7",
   "metadata": {},
   "outputs": [
    {
     "data": {
      "text/plain": [
       "25"
      ]
     },
     "execution_count": 4,
     "metadata": {},
     "output_type": "execute_result"
    }
   ],
   "source": [
    "square(5)"
   ]
  },
  {
   "cell_type": "code",
   "execution_count": 5,
   "id": "f48e5aaf-617e-4ed3-8497-015a0ac3e841",
   "metadata": {},
   "outputs": [],
   "source": [
    "#write a function calc_grade(marks)\n",
    "def calc_grade(marks):\n",
    "    if marks >=80:\n",
    "        grade = \"Distinction\"\n",
    "    elif marks >=60:\n",
    "        grade = \"First Class\"\n",
    "    elif marks >=40:\n",
    "        grade = \"Pass\"\n",
    "    else:\n",
    "        grade = \"Fail\"\n",
    "    return grade  #it should be aligned with if"
   ]
  },
  {
   "cell_type": "code",
   "execution_count": 6,
   "id": "c6b0a5d3-dc53-44df-a527-a9c50b34ebbf",
   "metadata": {},
   "outputs": [
    {
     "data": {
      "text/plain": [
       "'Pass'"
      ]
     },
     "execution_count": 6,
     "metadata": {},
     "output_type": "execute_result"
    }
   ],
   "source": [
    "calc_grade(47)"
   ]
  },
  {
   "cell_type": "code",
   "execution_count": 7,
   "id": "762da345-3e5b-426d-9764-61c5b4067760",
   "metadata": {},
   "outputs": [
    {
     "data": {
      "text/plain": [
       "['Mango', 'Apple', 'Banana', 'Pineapple', 'Custard Apple', 'Strawberry']"
      ]
     },
     "execution_count": 7,
     "metadata": {},
     "output_type": "execute_result"
    }
   ],
   "source": [
    "#List of strings\n",
    "list3=[\"Mango\",\"Apple\",\"Banana\",\"Pineapple\",\"Custard Apple\",\"Strawberry\"]\n",
    "list3"
   ]
  },
  {
   "cell_type": "code",
   "execution_count": 8,
   "id": "5163ae2d-41a2-4c4b-92f5-39de96dc0a1f",
   "metadata": {},
   "outputs": [
    {
     "ename": "SyntaxError",
     "evalue": "invalid syntax. Maybe you meant '==' or ':=' instead of '='? (458299583.py, line 4)",
     "output_type": "error",
     "traceback": [
      "\u001b[1;36m  Cell \u001b[1;32mIn[8], line 4\u001b[1;36m\u001b[0m\n\u001b[1;33m    (fruit.upper(),end=\"\")\u001b[0m\n\u001b[1;37m                   ^\u001b[0m\n\u001b[1;31mSyntaxError\u001b[0m\u001b[1;31m:\u001b[0m invalid syntax. Maybe you meant '==' or ':=' instead of '='?\n"
     ]
    }
   ],
   "source": [
    "#Display fruits by changing case of all fruits to uppercase\n",
    "for fruit in list3:\n",
    "    #print(fruit.lower())  #in single: print(fruit.upper(),end=\"\")\n",
    "    (fruit.upper(),end=\"\") "
   ]
  },
  {
   "cell_type": "code",
   "execution_count": 9,
   "id": "f3fd6124-7e4e-4988-a902-06354824faa8",
   "metadata": {},
   "outputs": [
    {
     "data": {
      "text/plain": [
       "['Mango', 'Apple', 'Banana', 'Pineapple', 'Custard Apple', 'Strawberry']"
      ]
     },
     "execution_count": 9,
     "metadata": {},
     "output_type": "execute_result"
    }
   ],
   "source": [
    "# In python Indexing starts with 0\n",
    "list3"
   ]
  },
  {
   "cell_type": "code",
   "execution_count": 10,
   "id": "2b5175b8-a5d1-4cf6-a3fc-787603c9f3db",
   "metadata": {},
   "outputs": [
    {
     "data": {
      "text/plain": [
       "'Custard Apple'"
      ]
     },
     "execution_count": 10,
     "metadata": {},
     "output_type": "execute_result"
    }
   ],
   "source": [
    "list3[4]"
   ]
  },
  {
   "cell_type": "code",
   "execution_count": 11,
   "id": "71a39861-420c-4947-af93-e78c70c60eec",
   "metadata": {},
   "outputs": [
    {
     "data": {
      "text/plain": [
       "1"
      ]
     },
     "execution_count": 11,
     "metadata": {},
     "output_type": "execute_result"
    }
   ],
   "source": [
    "list3.count(\"Banana\")"
   ]
  },
  {
   "cell_type": "code",
   "execution_count": 13,
   "id": "823c82ae-36ae-442b-84f5-6de8c6958c99",
   "metadata": {},
   "outputs": [
    {
     "ename": "IndexError",
     "evalue": "list index out of range",
     "output_type": "error",
     "traceback": [
      "\u001b[1;31m---------------------------------------------------------------------------\u001b[0m",
      "\u001b[1;31mIndexError\u001b[0m                                Traceback (most recent call last)",
      "Cell \u001b[1;32mIn[13], line 1\u001b[0m\n\u001b[1;32m----> 1\u001b[0m list3[\u001b[38;5;241m6\u001b[39m]\n",
      "\u001b[1;31mIndexError\u001b[0m: list index out of range"
     ]
    }
   ],
   "source": [
    "list3[6] #there is only 6 items are present but their indexing starts with 0 and ends with 5 (  6 items )"
   ]
  },
  {
   "cell_type": "code",
   "execution_count": 14,
   "id": "5e542824-ef52-4c4e-b182-7a2798b392d4",
   "metadata": {},
   "outputs": [
    {
     "data": {
      "text/plain": [
       "'Strawberry'"
      ]
     },
     "execution_count": 14,
     "metadata": {},
     "output_type": "execute_result"
    }
   ],
   "source": [
    "list3[5]"
   ]
  },
  {
   "cell_type": "markdown",
   "id": "3931d43d-68f0-4c0d-9525-44a3406867fb",
   "metadata": {},
   "source": [
    "# Slicing"
   ]
  },
  {
   "cell_type": "code",
   "execution_count": 16,
   "id": "11adfb1a-877f-4cfa-8871-273e65bef0c4",
   "metadata": {},
   "outputs": [
    {
     "data": {
      "text/plain": [
       "['Mango', 'Apple', 'Banana', 'Pineapple']"
      ]
     },
     "execution_count": 16,
     "metadata": {},
     "output_type": "execute_result"
    }
   ],
   "source": [
    "#Slicing\n",
    "list3[0:4] # 0,1,2,3"
   ]
  },
  {
   "cell_type": "code",
   "execution_count": 21,
   "id": "8ad7a557-100a-4b07-a9c6-e2d63a360e8b",
   "metadata": {},
   "outputs": [
    {
     "data": {
      "text/plain": [
       "['Apple', 'Banana', 'Pineapple', 'Custard Apple', 'Strawberry']"
      ]
     },
     "execution_count": 21,
     "metadata": {},
     "output_type": "execute_result"
    }
   ],
   "source": [
    "# from apple to strawberry i.e. till end\n",
    "list3[1:] #or list3[1:6]"
   ]
  },
  {
   "cell_type": "code",
   "execution_count": 22,
   "id": "05b79c69-cd41-461f-b413-725d298a39ec",
   "metadata": {},
   "outputs": [
    {
     "data": {
      "text/plain": [
       "['Mango', 'Apple', 'Banana', 'Pineapple']"
      ]
     },
     "execution_count": 22,
     "metadata": {},
     "output_type": "execute_result"
    }
   ],
   "source": [
    "# from beginning to pineapple (from index 0)\n",
    "list3[:4]"
   ]
  },
  {
   "cell_type": "code",
   "execution_count": 23,
   "id": "d82b5bef-7aec-4bba-b12c-9d2a6f2a3431",
   "metadata": {},
   "outputs": [
    {
     "data": {
      "text/plain": [
       "['Mango', 'Apple', 'Banana', 'Pineapple', 'Custard Apple', 'Strawberry']"
      ]
     },
     "execution_count": 23,
     "metadata": {},
     "output_type": "execute_result"
    }
   ],
   "source": [
    "list3\n"
   ]
  },
  {
   "cell_type": "code",
   "execution_count": 31,
   "id": "b882c30e-b19b-4c08-81aa-ae4dbefa8191",
   "metadata": {},
   "outputs": [
    {
     "data": {
      "text/plain": [
       "['Banana', 'Apple', 'Mango']"
      ]
     },
     "execution_count": 31,
     "metadata": {},
     "output_type": "execute_result"
    }
   ],
   "source": [
    "list3[-4::-1]\n",
    "# list3[-4::-2] #start, end, step"
   ]
  },
  {
   "cell_type": "code",
   "execution_count": 28,
   "id": "4df15b20-9f51-4ba2-949c-64e12cb567ff",
   "metadata": {},
   "outputs": [
    {
     "data": {
      "text/plain": [
       "'Strawberry'"
      ]
     },
     "execution_count": 28,
     "metadata": {},
     "output_type": "execute_result"
    }
   ],
   "source": [
    "# negative indexing -1 refers to last element\n",
    "list3[-1]"
   ]
  },
  {
   "cell_type": "code",
   "execution_count": 29,
   "id": "df2c98e8-759d-4f8f-87f8-edfc3837d67f",
   "metadata": {},
   "outputs": [
    {
     "data": {
      "text/plain": [
       "'Pineapple'"
      ]
     },
     "execution_count": 29,
     "metadata": {},
     "output_type": "execute_result"
    }
   ],
   "source": [
    "list3[-3]"
   ]
  },
  {
   "cell_type": "code",
   "execution_count": 32,
   "id": "8ae890ca-4879-472f-bece-4fa6e80d834a",
   "metadata": {},
   "outputs": [
    {
     "data": {
      "text/plain": [
       "'Mango'"
      ]
     },
     "execution_count": 32,
     "metadata": {},
     "output_type": "execute_result"
    }
   ],
   "source": [
    "list3[-6]"
   ]
  },
  {
   "cell_type": "code",
   "execution_count": 34,
   "id": "40e1c6c5-6ee8-4053-a9b1-ccc656bae22a",
   "metadata": {},
   "outputs": [
    {
     "name": "stdout",
     "output_type": "stream",
     "text": [
      "['Mango', 'Apple', 'Banana', 'Pineapple', 'Custard Apple', 'Strawberry']\n"
     ]
    },
    {
     "data": {
      "text/plain": [
       "['Mango', 'Banana', 'Custard Apple']"
      ]
     },
     "execution_count": 34,
     "metadata": {},
     "output_type": "execute_result"
    }
   ],
   "source": [
    "#start stop step in slicing\n",
    "print(list3)\n",
    "list3[::2] # 0,2,4"
   ]
  },
  {
   "cell_type": "code",
   "execution_count": 35,
   "id": "45f593a8-e529-4edf-a26d-0e1208f30b19",
   "metadata": {},
   "outputs": [
    {
     "ename": "SyntaxError",
     "evalue": "invalid syntax (3308085604.py, line 1)",
     "output_type": "error",
     "traceback": [
      "\u001b[1;36m  Cell \u001b[1;32mIn[35], line 1\u001b[1;36m\u001b[0m\n\u001b[1;33m    n1=[1:31] # To create list of 1 to 30 - will raise error\u001b[0m\n\u001b[1;37m         ^\u001b[0m\n\u001b[1;31mSyntaxError\u001b[0m\u001b[1;31m:\u001b[0m invalid syntax\n"
     ]
    }
   ],
   "source": [
    "n1=[1:31] # To create list of 1 to 30 - will raise error"
   ]
  },
  {
   "cell_type": "code",
   "execution_count": 36,
   "id": "08cf7174-21e0-4704-976d-78a11978a0ed",
   "metadata": {},
   "outputs": [
    {
     "name": "stdout",
     "output_type": "stream",
     "text": [
      "[1, 2, 3, 4, 5, 6, 7, 8, 9, 10, 11, 12, 13, 14, 15, 16, 17, 18, 19, 20, 21, 22, 23, 24, 25, 26, 27, 28, 29, 30]\n"
     ]
    }
   ],
   "source": [
    "n1=list(range(1,31))\n",
    "print(n1)"
   ]
  },
  {
   "cell_type": "code",
   "execution_count": 37,
   "id": "4e87e035-ed37-498f-80f4-167a80326bad",
   "metadata": {},
   "outputs": [
    {
     "data": {
      "text/plain": [
       "[1, 5, 9, 13, 17, 21, 25, 29]"
      ]
     },
     "execution_count": 37,
     "metadata": {},
     "output_type": "execute_result"
    }
   ],
   "source": [
    "n1[::4]"
   ]
  },
  {
   "cell_type": "code",
   "execution_count": 38,
   "id": "1275fd0f-414f-48b9-8da6-d134c74002cc",
   "metadata": {},
   "outputs": [
    {
     "data": {
      "text/plain": [
       "[3, 8, 13, 18, 23]"
      ]
     },
     "execution_count": 38,
     "metadata": {},
     "output_type": "execute_result"
    }
   ],
   "source": [
    "#print nos from index 2 to 26 with step value of 5\n",
    "n1[2:27:5]"
   ]
  },
  {
   "cell_type": "code",
   "execution_count": 39,
   "id": "12dcea33-5c1c-44e6-b49f-b3c777923d49",
   "metadata": {},
   "outputs": [
    {
     "name": "stdout",
     "output_type": "stream",
     "text": [
      "['Mango', 'Apple', 'Banana', 'Pineapple', 'Custard Apple', 'Strawberry']\n"
     ]
    }
   ],
   "source": [
    "print(list3)"
   ]
  },
  {
   "cell_type": "code",
   "execution_count": 40,
   "id": "04840d50-d45a-4a97-b227-0329b637e5af",
   "metadata": {},
   "outputs": [
    {
     "data": {
      "text/plain": [
       "['Strawberry', 'Custard Apple', 'Pineapple', 'Banana', 'Apple', 'Mango']"
      ]
     },
     "execution_count": 40,
     "metadata": {},
     "output_type": "execute_result"
    }
   ],
   "source": [
    "list3[::-1]"
   ]
  },
  {
   "cell_type": "code",
   "execution_count": 41,
   "id": "2f176031-48f4-4e41-a8a5-04c2db61f8ca",
   "metadata": {},
   "outputs": [
    {
     "data": {
      "text/plain": [
       "['Strawberry', 'Pineapple', 'Apple']"
      ]
     },
     "execution_count": 41,
     "metadata": {},
     "output_type": "execute_result"
    }
   ],
   "source": [
    "list3[::-2]"
   ]
  },
  {
   "cell_type": "code",
   "execution_count": 42,
   "id": "45036ebe-363a-4756-ab66-3fa8f4616a5c",
   "metadata": {},
   "outputs": [
    {
     "data": {
      "text/plain": [
       "True"
      ]
     },
     "execution_count": 42,
     "metadata": {},
     "output_type": "execute_result"
    }
   ],
   "source": [
    "# use of 'in' keyword: search substring in given word\n",
    "'the' in 'Netherland'"
   ]
  },
  {
   "cell_type": "code",
   "execution_count": 44,
   "id": "5796e496-be28-42f0-9ff8-598e7f2d96ca",
   "metadata": {},
   "outputs": [
    {
     "data": {
      "text/plain": [
       "False"
      ]
     },
     "execution_count": 44,
     "metadata": {},
     "output_type": "execute_result"
    }
   ],
   "source": [
    "'The' in 'Netherland' # it gives false beacause python is case sensitive"
   ]
  },
  {
   "cell_type": "code",
   "execution_count": 47,
   "id": "34b54363-f0cc-4163-b271-3d4bea04fb7f",
   "metadata": {},
   "outputs": [
    {
     "data": {
      "text/plain": [
       "False"
      ]
     },
     "execution_count": 47,
     "metadata": {},
     "output_type": "execute_result"
    }
   ],
   "source": [
    "'therer' in 'Netherland'"
   ]
  },
  {
   "cell_type": "code",
   "execution_count": 48,
   "id": "667b1ecf-c86d-4ff4-893f-e60a447caec5",
   "metadata": {},
   "outputs": [
    {
     "data": {
      "text/plain": [
       "['Mango', 'Apple', 'Banana', 'Pineapple', 'Custard Apple', 'Strawberry']"
      ]
     },
     "execution_count": 48,
     "metadata": {},
     "output_type": "execute_result"
    }
   ],
   "source": [
    "list3"
   ]
  },
  {
   "cell_type": "code",
   "execution_count": 55,
   "id": "33785a22-9ba6-4519-b118-addfe4386e62",
   "metadata": {},
   "outputs": [],
   "source": [
    "list3.append(\"Mulberry\")"
   ]
  },
  {
   "cell_type": "code",
   "execution_count": 56,
   "id": "d7985b77-9cf4-4ae7-aa46-bdcef2069bb4",
   "metadata": {},
   "outputs": [
    {
     "data": {
      "text/plain": [
       "['Mango',\n",
       " 'Apple',\n",
       " 'Banana',\n",
       " 'Pineapple',\n",
       " 'Custard Apple',\n",
       " 'Strawberry',\n",
       " 'Mulberry']"
      ]
     },
     "execution_count": 56,
     "metadata": {},
     "output_type": "execute_result"
    }
   ],
   "source": [
    "list3"
   ]
  },
  {
   "cell_type": "code",
   "execution_count": 57,
   "id": "9e281939-93e2-4360-8604-92ad285c73df",
   "metadata": {},
   "outputs": [],
   "source": [
    "# removes mentioned element\n",
    "list3.remove(\"Mulberry\") "
   ]
  },
  {
   "cell_type": "code",
   "execution_count": 58,
   "id": "6b26bfa9-5361-4668-b0e5-0844d0b0b1cf",
   "metadata": {},
   "outputs": [
    {
     "data": {
      "text/plain": [
       "['Mango', 'Apple', 'Banana', 'Pineapple', 'Custard Apple', 'Strawberry']"
      ]
     },
     "execution_count": 58,
     "metadata": {},
     "output_type": "execute_result"
    }
   ],
   "source": [
    "list3"
   ]
  },
  {
   "cell_type": "code",
   "execution_count": 59,
   "id": "84ca460f-b8eb-46ee-8895-06fb07a25a64",
   "metadata": {},
   "outputs": [
    {
     "name": "stdout",
     "output_type": "stream",
     "text": [
      "Strawberry\n"
     ]
    }
   ],
   "source": [
    "#display fruits which contain substring as 'berry' using for loop\n",
    "for fruit in list3:\n",
    "    if 'berry' in fruit:\n",
    "        print(fruit)"
   ]
  },
  {
   "cell_type": "code",
   "execution_count": 60,
   "id": "7452ecbb-30ba-4b4e-b19e-65ed9b78edd5",
   "metadata": {},
   "outputs": [
    {
     "name": "stdout",
     "output_type": "stream",
     "text": [
      "Apple\n",
      "Pineapple\n",
      "Custard Apple\n"
     ]
    }
   ],
   "source": [
    "# Display fruits which contain substring as 'pple' using for loop\n",
    "for fruit in list3:\n",
    "    if 'pple' in fruit:\n",
    "        print(fruit)"
   ]
  },
  {
   "cell_type": "code",
   "execution_count": 61,
   "id": "e746e0bc-a653-476e-b3bf-212063fc4f38",
   "metadata": {},
   "outputs": [],
   "source": [
    "list3.append(\"Black berry\")"
   ]
  },
  {
   "cell_type": "code",
   "execution_count": 62,
   "id": "bf38d937-da96-446a-bf24-524df8e5c434",
   "metadata": {},
   "outputs": [
    {
     "data": {
      "text/plain": [
       "['Mango',\n",
       " 'Apple',\n",
       " 'Banana',\n",
       " 'Pineapple',\n",
       " 'Custard Apple',\n",
       " 'Strawberry',\n",
       " 'Black berry']"
      ]
     },
     "execution_count": 62,
     "metadata": {},
     "output_type": "execute_result"
    }
   ],
   "source": [
    "list3"
   ]
  },
  {
   "cell_type": "code",
   "execution_count": 63,
   "id": "48d92588-3e1d-4c49-b079-ab6c51ade168",
   "metadata": {},
   "outputs": [
    {
     "name": "stdout",
     "output_type": "stream",
     "text": [
      "[]['Mango'][]['Mango', 'Apple'][]['Mango', 'Apple', 'Banana'][]['Mango', 'Apple', 'Banana', 'Pineapple'][]['Mango', 'Apple', 'Banana', 'Pineapple', 'Custard Apple']['Strawberry']['Mango', 'Apple', 'Banana', 'Pineapple', 'Custard Apple']['Strawberry', 'Black berry']['Mango', 'Apple', 'Banana', 'Pineapple', 'Custard Apple']"
     ]
    }
   ],
   "source": [
    "#create list4 of fruits from list3 having only 'berry' as substring and store remaining fruits in list5\n",
    "list4=[]\n",
    "list5=[]\n",
    "for fruit in list3:\n",
    "    if 'berry' in fruit:\n",
    "        list4.append(fruit)\n",
    "    else:\n",
    "        list5.append(fruit)\n",
    "    print(list4,end=\"\")\n",
    "    print(list5,end=\"\")"
   ]
  },
  {
   "cell_type": "code",
   "execution_count": 64,
   "id": "acc08d18-8fc5-4c90-82fc-3e6788d67841",
   "metadata": {},
   "outputs": [
    {
     "name": "stdout",
     "output_type": "stream",
     "text": [
      "[2, 3, 4, 5, 6]\n",
      "[4, 9, 16, 25, 36]\n"
     ]
    }
   ],
   "source": [
    "#print squares of all numbers of list1 to list2\n",
    "l1=[2,3,4,5,6]\n",
    "l2=[]\n",
    "for i in l1:\n",
    "    l2.append(i**2) #OR l2.append(i*i)\n",
    "print(l1)\n",
    "print(l2)"
   ]
  },
  {
   "cell_type": "code",
   "execution_count": 67,
   "id": "c3d77f20-9658-4124-8003-c52bc3771ddf",
   "metadata": {},
   "outputs": [
    {
     "name": "stdout",
     "output_type": "stream",
     "text": [
      "[2, 3, 4, 5, 6]\n",
      "[4, 9, 16, 25, 36]\n"
     ]
    }
   ],
   "source": [
    "#list comprehension - makes your code compact\n",
    "l1=[2,3,4,5,6]\n",
    "l2=[i**2 for i in l1]\n",
    "print(l1)\n",
    "print(l2)"
   ]
  },
  {
   "cell_type": "code",
   "execution_count": 68,
   "id": "505aa2d5-012d-452f-8511-d8db3ca5c812",
   "metadata": {},
   "outputs": [
    {
     "data": {
      "text/plain": [
       "['Mango',\n",
       " 'Apple',\n",
       " 'Banana',\n",
       " 'Pineapple',\n",
       " 'Custard Apple',\n",
       " 'Strawberry',\n",
       " 'Black berry']"
      ]
     },
     "execution_count": 68,
     "metadata": {},
     "output_type": "execute_result"
    }
   ],
   "source": [
    "list3"
   ]
  },
  {
   "cell_type": "code",
   "execution_count": 69,
   "id": "2322825a-4e67-4549-8295-17c09505428c",
   "metadata": {},
   "outputs": [
    {
     "data": {
      "text/plain": [
       "['Mango',\n",
       " 'Apple',\n",
       " 'Banana',\n",
       " 'Pineapple',\n",
       " 'Custard Apple',\n",
       " 'Strawberry',\n",
       " 'Black berry']"
      ]
     },
     "execution_count": 69,
     "metadata": {},
     "output_type": "execute_result"
    }
   ],
   "source": [
    "#extract fruit names containing substring 'berry' using list comprehension\n",
    "list3"
   ]
  },
  {
   "cell_type": "code",
   "execution_count": 70,
   "id": "0e0fb6e4-4eed-4515-9fe3-c2bb97de397f",
   "metadata": {},
   "outputs": [],
   "source": [
    "newlist=[fruit for fruit in list3 if 'berry' in fruit]"
   ]
  },
  {
   "cell_type": "code",
   "execution_count": 71,
   "id": "06f419c7-b185-41d2-9a4f-59470667010f",
   "metadata": {},
   "outputs": [
    {
     "data": {
      "text/plain": [
       "['Strawberry', 'Black berry']"
      ]
     },
     "execution_count": 71,
     "metadata": {},
     "output_type": "execute_result"
    }
   ],
   "source": [
    "newlist"
   ]
  },
  {
   "cell_type": "code",
   "execution_count": 72,
   "id": "d03915f1-c24e-4895-adbf-7f9bf7c83902",
   "metadata": {},
   "outputs": [],
   "source": [
    "newlist1=[i for i in list3 if 'berry' not in i]"
   ]
  },
  {
   "cell_type": "code",
   "execution_count": 73,
   "id": "450a5fb1-7764-4d16-bf3f-5fecb31065ba",
   "metadata": {},
   "outputs": [
    {
     "data": {
      "text/plain": [
       "['Mango', 'Apple', 'Banana', 'Pineapple', 'Custard Apple']"
      ]
     },
     "execution_count": 73,
     "metadata": {},
     "output_type": "execute_result"
    }
   ],
   "source": [
    "newlist1"
   ]
  },
  {
   "cell_type": "code",
   "execution_count": 74,
   "id": "691bdc82-4160-437d-8c75-e583f007afc3",
   "metadata": {},
   "outputs": [
    {
     "data": {
      "text/plain": [
       "['Mango',\n",
       " 'Apple',\n",
       " 'Banana',\n",
       " 'Pineapple',\n",
       " 'Custard Apple',\n",
       " 'Strawberry',\n",
       " 'Black berry']"
      ]
     },
     "execution_count": 74,
     "metadata": {},
     "output_type": "execute_result"
    }
   ],
   "source": [
    "list3"
   ]
  },
  {
   "cell_type": "markdown",
   "id": "a7bbafb0-0a53-4c13-8dc5-79b5d57e05ec",
   "metadata": {},
   "source": [
    "# finding the index "
   ]
  },
  {
   "cell_type": "code",
   "execution_count": 78,
   "id": "5b8d2894-41d3-4d75-97f2-5dcd5be60e14",
   "metadata": {},
   "outputs": [
    {
     "data": {
      "text/plain": [
       "2"
      ]
     },
     "execution_count": 78,
     "metadata": {},
     "output_type": "execute_result"
    }
   ],
   "source": [
    "list3.index('Banana') #it give index number of Banana"
   ]
  },
  {
   "cell_type": "code",
   "execution_count": 79,
   "id": "d2ce59cf-6738-4977-ae4a-905d97bdc8ec",
   "metadata": {},
   "outputs": [
    {
     "data": {
      "text/plain": [
       "6"
      ]
     },
     "execution_count": 79,
     "metadata": {},
     "output_type": "execute_result"
    }
   ],
   "source": [
    "list3.index('Black berry') # IT gives index of Black berry\n"
   ]
  },
  {
   "cell_type": "code",
   "execution_count": 81,
   "id": "b619f01e-620d-40e6-bced-1cf64ed2131e",
   "metadata": {},
   "outputs": [
    {
     "ename": "ValueError",
     "evalue": "'orange' is not in list",
     "output_type": "error",
     "traceback": [
      "\u001b[1;31m---------------------------------------------------------------------------\u001b[0m",
      "\u001b[1;31mValueError\u001b[0m                                Traceback (most recent call last)",
      "Cell \u001b[1;32mIn[81], line 1\u001b[0m\n\u001b[1;32m----> 1\u001b[0m list3\u001b[38;5;241m.\u001b[39mindex(\u001b[38;5;124m\"\u001b[39m\u001b[38;5;124morange\u001b[39m\u001b[38;5;124m\"\u001b[39m)\n",
      "\u001b[1;31mValueError\u001b[0m: 'orange' is not in list"
     ]
    }
   ],
   "source": [
    "list3.index(\"orange\") # the value we give to index are not in the list thats why it gives error"
   ]
  },
  {
   "cell_type": "code",
   "execution_count": 82,
   "id": "635a1ec8-e0eb-4d73-8907-7f51227dd92e",
   "metadata": {},
   "outputs": [
    {
     "name": "stdout",
     "output_type": "stream",
     "text": [
      "['Mango', 'Apple', 'Banana', 'Pineapple', 'Custard Apple', 'Strawberry', 'Black berry']"
     ]
    }
   ],
   "source": [
    "print(list3,end=\"\")"
   ]
  },
  {
   "cell_type": "code",
   "execution_count": 83,
   "id": "15150b3a-1a55-4133-80d7-c7367e522661",
   "metadata": {},
   "outputs": [
    {
     "data": {
      "text/plain": [
       "['Mango',\n",
       " 'Apple',\n",
       " 'Banana',\n",
       " 'Pineapple',\n",
       " 'Custard Apple',\n",
       " 'Strawberry',\n",
       " 'Black berry']"
      ]
     },
     "execution_count": 83,
     "metadata": {},
     "output_type": "execute_result"
    }
   ],
   "source": [
    "list3"
   ]
  },
  {
   "cell_type": "markdown",
   "id": "5327122f-9ead-4f2c-888e-2fec66b662ef",
   "metadata": {},
   "source": [
    "# Replace"
   ]
  },
  {
   "cell_type": "code",
   "execution_count": 84,
   "id": "9c8ac906-62a0-4b50-b683-d3dd705f675f",
   "metadata": {},
   "outputs": [
    {
     "data": {
      "text/plain": [
       "['Mango',\n",
       " 'Apple',\n",
       " 'Orange',\n",
       " 'Pineapple',\n",
       " 'Custard Apple',\n",
       " 'Strawberry',\n",
       " 'Black berry']"
      ]
     },
     "execution_count": 84,
     "metadata": {},
     "output_type": "execute_result"
    }
   ],
   "source": [
    "#index 2 item was banana which is replaced by orange\n",
    "#lists are multiple - you are replace items of list\n",
    "list3[2]=\"Orange\"\n",
    "list3"
   ]
  },
  {
   "cell_type": "markdown",
   "id": "b0c1ec16-7328-4ade-bae2-6fde576dec87",
   "metadata": {},
   "source": [
    "# 2 TUPLE"
   ]
  },
  {
   "cell_type": "code",
   "execution_count": 86,
   "id": "f679c3d1-087f-4fbc-a04b-6e19a2d1e0a2",
   "metadata": {},
   "outputs": [
    {
     "data": {
      "text/plain": [
       "(10, 20, 30, 40, 50)"
      ]
     },
     "execution_count": 86,
     "metadata": {},
     "output_type": "execute_result"
    }
   ],
   "source": [
    "# Data Structure : 2.TUPLE\n",
    "#Tuples are not mutable i.e immutable\n",
    "#created using round brackets ()\n",
    "t1 =(10,20,30,40,50)\n",
    "t1"
   ]
  },
  {
   "cell_type": "code",
   "execution_count": 87,
   "id": "639d9fab-5a54-4295-a1eb-26d3da2bc74e",
   "metadata": {},
   "outputs": [
    {
     "data": {
      "text/plain": [
       "tuple"
      ]
     },
     "execution_count": 87,
     "metadata": {},
     "output_type": "execute_result"
    }
   ],
   "source": [
    "type(t1)"
   ]
  },
  {
   "cell_type": "code",
   "execution_count": 88,
   "id": "31c14f86-aac8-4af7-a7e4-af6a988c341f",
   "metadata": {},
   "outputs": [
    {
     "data": {
      "text/plain": [
       "40"
      ]
     },
     "execution_count": 88,
     "metadata": {},
     "output_type": "execute_result"
    }
   ],
   "source": [
    "t1[3]"
   ]
  },
  {
   "cell_type": "code",
   "execution_count": 89,
   "id": "7b10e339-1b55-4039-957a-ec78a7dd7e36",
   "metadata": {},
   "outputs": [
    {
     "ename": "TypeError",
     "evalue": "'tuple' object does not support item assignment",
     "output_type": "error",
     "traceback": [
      "\u001b[1;31m---------------------------------------------------------------------------\u001b[0m",
      "\u001b[1;31mTypeError\u001b[0m                                 Traceback (most recent call last)",
      "Cell \u001b[1;32mIn[89], line 1\u001b[0m\n\u001b[1;32m----> 1\u001b[0m t1[\u001b[38;5;241m0\u001b[39m]\u001b[38;5;241m=\u001b[39m\u001b[38;5;241m100\u001b[39m\n",
      "\u001b[1;31mTypeError\u001b[0m: 'tuple' object does not support item assignment"
     ]
    }
   ],
   "source": [
    "t1[0]=100 #will raise an error as tuples are immutable"
   ]
  },
  {
   "cell_type": "code",
   "execution_count": 90,
   "id": "56cbc360-a8d8-432e-a614-609e7ee9eb23",
   "metadata": {},
   "outputs": [],
   "source": [
    "t3 = t1 + (6,7,8,9,10)"
   ]
  },
  {
   "cell_type": "code",
   "execution_count": 91,
   "id": "23a22009-83b1-4cce-817d-e16c45d49cc7",
   "metadata": {},
   "outputs": [
    {
     "data": {
      "text/plain": [
       "(10, 20, 30, 40, 50, 6, 7, 8, 9, 10)"
      ]
     },
     "execution_count": 91,
     "metadata": {},
     "output_type": "execute_result"
    }
   ],
   "source": [
    "t3"
   ]
  },
  {
   "cell_type": "code",
   "execution_count": 92,
   "id": "d2b573b8-7b41-48d5-99d3-a80eb6a8757c",
   "metadata": {},
   "outputs": [
    {
     "data": {
      "text/plain": [
       "(10, 20, 30, 40, 50, 10, 20, 30, 40, 50, 10, 20, 30, 40, 50)"
      ]
     },
     "execution_count": 92,
     "metadata": {},
     "output_type": "execute_result"
    }
   ],
   "source": [
    "t1 * 3"
   ]
  },
  {
   "cell_type": "code",
   "execution_count": 93,
   "id": "38c1c7c6-a9df-40af-b419-c8168e8bb325",
   "metadata": {},
   "outputs": [
    {
     "data": {
      "text/plain": [
       "['__add__',\n",
       " '__class__',\n",
       " '__class_getitem__',\n",
       " '__contains__',\n",
       " '__delattr__',\n",
       " '__dir__',\n",
       " '__doc__',\n",
       " '__eq__',\n",
       " '__format__',\n",
       " '__ge__',\n",
       " '__getattribute__',\n",
       " '__getitem__',\n",
       " '__getnewargs__',\n",
       " '__getstate__',\n",
       " '__gt__',\n",
       " '__hash__',\n",
       " '__init__',\n",
       " '__init_subclass__',\n",
       " '__iter__',\n",
       " '__le__',\n",
       " '__len__',\n",
       " '__lt__',\n",
       " '__mul__',\n",
       " '__ne__',\n",
       " '__new__',\n",
       " '__reduce__',\n",
       " '__reduce_ex__',\n",
       " '__repr__',\n",
       " '__rmul__',\n",
       " '__setattr__',\n",
       " '__sizeof__',\n",
       " '__str__',\n",
       " '__subclasshook__',\n",
       " 'count',\n",
       " 'index']"
      ]
     },
     "execution_count": 93,
     "metadata": {},
     "output_type": "execute_result"
    }
   ],
   "source": [
    "dir(tuple)"
   ]
  },
  {
   "cell_type": "code",
   "execution_count": 94,
   "id": "69296ffc-3a80-42fd-a779-3e2880d70650",
   "metadata": {},
   "outputs": [
    {
     "data": {
      "text/plain": [
       "(10, 20, 30, 40, 50)"
      ]
     },
     "execution_count": 94,
     "metadata": {},
     "output_type": "execute_result"
    }
   ],
   "source": [
    "t1"
   ]
  },
  {
   "cell_type": "code",
   "execution_count": 96,
   "id": "f996e2ec-79ff-4568-a459-9086b4368480",
   "metadata": {},
   "outputs": [
    {
     "data": {
      "text/plain": [
       "1"
      ]
     },
     "execution_count": 96,
     "metadata": {},
     "output_type": "execute_result"
    }
   ],
   "source": [
    "t1.count(50) # in brackets we have passed an element of tuple (not the index)"
   ]
  },
  {
   "cell_type": "code",
   "execution_count": 97,
   "id": "930b5ae2-9797-4406-b450-737f710b875d",
   "metadata": {},
   "outputs": [
    {
     "data": {
      "text/plain": [
       "3"
      ]
     },
     "execution_count": 97,
     "metadata": {},
     "output_type": "execute_result"
    }
   ],
   "source": [
    "t1.index(40) # in brackets we have passed an element of tuple (not the index)"
   ]
  },
  {
   "cell_type": "code",
   "execution_count": 98,
   "id": "d8d895a4-31b8-4741-ba1b-65c8da251a15",
   "metadata": {},
   "outputs": [],
   "source": [
    "t2=(1,1,1,2,2,6,6,6,7,6,6,7)"
   ]
  },
  {
   "cell_type": "code",
   "execution_count": 99,
   "id": "136815b8-e9f7-4db2-8e3f-561cd641c8cc",
   "metadata": {},
   "outputs": [
    {
     "data": {
      "text/plain": [
       "2"
      ]
     },
     "execution_count": 99,
     "metadata": {},
     "output_type": "execute_result"
    }
   ],
   "source": [
    "t2.count(2)"
   ]
  },
  {
   "cell_type": "code",
   "execution_count": 100,
   "id": "1ed33fb0-a7b4-4f85-a380-440ce728e220",
   "metadata": {},
   "outputs": [
    {
     "data": {
      "text/plain": [
       "5"
      ]
     },
     "execution_count": 100,
     "metadata": {},
     "output_type": "execute_result"
    }
   ],
   "source": [
    "t2.count(6)"
   ]
  },
  {
   "cell_type": "code",
   "execution_count": 102,
   "id": "a69a656e-f6d2-422c-a26a-bd92a5d3e952",
   "metadata": {},
   "outputs": [
    {
     "data": {
      "text/plain": [
       "5"
      ]
     },
     "execution_count": 102,
     "metadata": {},
     "output_type": "execute_result"
    }
   ],
   "source": [
    "t2.index(6) # there are many 6  presents in the tuple but it only gives the first 6th number index"
   ]
  },
  {
   "cell_type": "code",
   "execution_count": 103,
   "id": "7edaf350-b1db-4104-8995-a1bb62ff3f80",
   "metadata": {},
   "outputs": [
    {
     "data": {
      "text/plain": [
       "30"
      ]
     },
     "execution_count": 103,
     "metadata": {},
     "output_type": "execute_result"
    }
   ],
   "source": [
    "# indexing and slicing with tuple is same as list\n",
    "# extracting elements of tuple\n",
    "\n",
    "#indexing\n",
    "t1[2]"
   ]
  },
  {
   "cell_type": "code",
   "execution_count": 104,
   "id": "22c81771-b79f-42ec-99cd-26f75a03d7b5",
   "metadata": {},
   "outputs": [
    {
     "data": {
      "text/plain": [
       "(10, 20, 30, 40, 50)"
      ]
     },
     "execution_count": 104,
     "metadata": {},
     "output_type": "execute_result"
    }
   ],
   "source": [
    "t1"
   ]
  },
  {
   "cell_type": "code",
   "execution_count": 105,
   "id": "adc07e45-f4c8-4f8f-a9f5-c9999084645d",
   "metadata": {},
   "outputs": [
    {
     "data": {
      "text/plain": [
       "(20, 30, 40)"
      ]
     },
     "execution_count": 105,
     "metadata": {},
     "output_type": "execute_result"
    }
   ],
   "source": [
    "#Slicing\n",
    "t1[1:4]"
   ]
  },
  {
   "cell_type": "code",
   "execution_count": 106,
   "id": "c4a55fbd-aa0a-4e7c-a7ce-5f0a90f10a01",
   "metadata": {},
   "outputs": [
    {
     "data": {
      "text/plain": [
       "(40, 50)"
      ]
     },
     "execution_count": 106,
     "metadata": {},
     "output_type": "execute_result"
    }
   ],
   "source": [
    "t1[3:]"
   ]
  },
  {
   "cell_type": "markdown",
   "id": "f8d3f52b-3610-488f-bfd4-a70d4404d26c",
   "metadata": {},
   "source": [
    "#  3 Dictionary"
   ]
  },
  {
   "cell_type": "code",
   "execution_count": 2,
   "id": "d76d9c73-9e9e-4729-b436-24cb6b142edc",
   "metadata": {},
   "outputs": [
    {
     "data": {
      "text/plain": [
       "{'Nepal': 'Kathmandu', 'Italy': 'Rome', 'England': 'London'}"
      ]
     },
     "execution_count": 2,
     "metadata": {},
     "output_type": "execute_result"
    }
   ],
   "source": [
    "# Data Structure: 3.Dictionary\n",
    "# Dictionaries are used to store data values in \"key:value\" pairs.\n",
    "# A dictionary is a collection which is ordered, changeable and do not allow duplicates.\n",
    "# Dictionaries are written with curly brackets {\"Key\":\"Value\"}, and have keys and values.\n",
    "# Here, keys are unique identifiers that are associated with each value.:\n",
    "\n",
    "capital_dict={\"Nepal\": \"Kathmandu\", \"Italy\": \"Rome\", \"England\": \"London\"} #{\"Key\" : \"Value\"}\n",
    "capital_dict\n"
   ]
  },
  {
   "cell_type": "code",
   "execution_count": 3,
   "id": "eccdf72e-cb2c-45e4-b08b-60d3b7c096b3",
   "metadata": {},
   "outputs": [
    {
     "data": {
      "text/plain": [
       "dict"
      ]
     },
     "execution_count": 3,
     "metadata": {},
     "output_type": "execute_result"
    }
   ],
   "source": [
    "type(capital_dict)"
   ]
  },
  {
   "cell_type": "code",
   "execution_count": 4,
   "id": "c877d4e7-ec7c-47de-8184-d22caaa35000",
   "metadata": {},
   "outputs": [
    {
     "data": {
      "text/plain": [
       "['__class__',\n",
       " '__class_getitem__',\n",
       " '__contains__',\n",
       " '__delattr__',\n",
       " '__delitem__',\n",
       " '__dir__',\n",
       " '__doc__',\n",
       " '__eq__',\n",
       " '__format__',\n",
       " '__ge__',\n",
       " '__getattribute__',\n",
       " '__getitem__',\n",
       " '__getstate__',\n",
       " '__gt__',\n",
       " '__hash__',\n",
       " '__init__',\n",
       " '__init_subclass__',\n",
       " '__ior__',\n",
       " '__iter__',\n",
       " '__le__',\n",
       " '__len__',\n",
       " '__lt__',\n",
       " '__ne__',\n",
       " '__new__',\n",
       " '__or__',\n",
       " '__reduce__',\n",
       " '__reduce_ex__',\n",
       " '__repr__',\n",
       " '__reversed__',\n",
       " '__ror__',\n",
       " '__setattr__',\n",
       " '__setitem__',\n",
       " '__sizeof__',\n",
       " '__str__',\n",
       " '__subclasshook__',\n",
       " 'clear',\n",
       " 'copy',\n",
       " 'fromkeys',\n",
       " 'get',\n",
       " 'items',\n",
       " 'keys',\n",
       " 'pop',\n",
       " 'popitem',\n",
       " 'setdefault',\n",
       " 'update',\n",
       " 'values']"
      ]
     },
     "execution_count": 4,
     "metadata": {},
     "output_type": "execute_result"
    }
   ],
   "source": [
    "dir(capital_dict) # OR dir(dict)"
   ]
  },
  {
   "cell_type": "code",
   "execution_count": 5,
   "id": "66e09be1-c4be-4556-8ac4-9440e8d71363",
   "metadata": {},
   "outputs": [
    {
     "data": {
      "text/plain": [
       "'Rome'"
      ]
     },
     "execution_count": 5,
     "metadata": {},
     "output_type": "execute_result"
    }
   ],
   "source": [
    "#access element of dictionary\n",
    "capital_dict[\"Italy\"]"
   ]
  },
  {
   "cell_type": "code",
   "execution_count": 6,
   "id": "abb5c12f-7278-4a1c-89d6-30287d5e03cb",
   "metadata": {},
   "outputs": [
    {
     "data": {
      "text/plain": [
       "dict_keys(['Nepal', 'Italy', 'England'])"
      ]
     },
     "execution_count": 6,
     "metadata": {},
     "output_type": "execute_result"
    }
   ],
   "source": [
    "# keys() method extracts the keys of the dictionary and returns the list of keys as a view object.\n",
    "keys1=capital_dict.keys()\n",
    "keys1"
   ]
  },
  {
   "cell_type": "code",
   "execution_count": 7,
   "id": "f78b7bb1-b347-4c39-97f4-a4ef541f47aa",
   "metadata": {},
   "outputs": [
    {
     "data": {
      "text/plain": [
       "dict_keys(['Nepal', 'Italy', 'England'])"
      ]
     },
     "execution_count": 7,
     "metadata": {},
     "output_type": "execute_result"
    }
   ],
   "source": [
    "capital_dict.keys()"
   ]
  },
  {
   "cell_type": "code",
   "execution_count": 8,
   "id": "ca5045ab-f07d-4f92-962c-d68839ceba8c",
   "metadata": {},
   "outputs": [
    {
     "data": {
      "text/plain": [
       "dict_keys"
      ]
     },
     "execution_count": 8,
     "metadata": {},
     "output_type": "execute_result"
    }
   ],
   "source": [
    "type(keys1)"
   ]
  },
  {
   "cell_type": "code",
   "execution_count": 9,
   "id": "30c2dd5f-fb6d-4880-a566-0e91a4d88a5a",
   "metadata": {},
   "outputs": [
    {
     "data": {
      "text/plain": [
       "dict_values(['Kathmandu', 'Rome', 'London'])"
      ]
     },
     "execution_count": 9,
     "metadata": {},
     "output_type": "execute_result"
    }
   ],
   "source": [
    "#The values () method return a view object that displays a list of all the values\n",
    "value=capital_dict.values()\n",
    "value"
   ]
  },
  {
   "cell_type": "code",
   "execution_count": 10,
   "id": "069be677-281f-4e19-a974-53a4202fa55a",
   "metadata": {},
   "outputs": [
    {
     "data": {
      "text/plain": [
       "dict_values(['Kathmandu', 'Rome', 'London'])"
      ]
     },
     "execution_count": 10,
     "metadata": {},
     "output_type": "execute_result"
    }
   ],
   "source": [
    "# The items() method returns a view object that displays a list of dictionary's (key, value) tuple pairs.\n",
    "items=capital_dict.values()\n",
    "value"
   ]
  },
  {
   "cell_type": "code",
   "execution_count": 11,
   "id": "c024cc29-49df-4b3c-8f1d-64dc3f5bb498",
   "metadata": {},
   "outputs": [],
   "source": [
    "# The update() method updates the dictionary with the elements from another\n",
    "# dictionary object or from an iterable of key/value pairs.\n",
    "\n",
    "add_capital={\"India\": \"New Delhi\",\"abc\":\"xyz\"}\n",
    "capital_dict.update(add_capital)"
   ]
  },
  {
   "cell_type": "code",
   "execution_count": 12,
   "id": "f3f3a04c-9ef9-4001-9e6e-bf0537b39497",
   "metadata": {},
   "outputs": [
    {
     "data": {
      "text/plain": [
       "{'Nepal': 'Kathmandu',\n",
       " 'Italy': 'Rome',\n",
       " 'England': 'London',\n",
       " 'India': 'New Delhi',\n",
       " 'abc': 'xyz'}"
      ]
     },
     "execution_count": 12,
     "metadata": {},
     "output_type": "execute_result"
    }
   ],
   "source": [
    "capital_dict"
   ]
  },
  {
   "cell_type": "code",
   "execution_count": 13,
   "id": "9d335bb1-9126-405c-9984-c1f45e650a59",
   "metadata": {},
   "outputs": [
    {
     "data": {
      "text/plain": [
       "{'Nepal': 'Kathmandu',\n",
       " 'Italy': 'Rome',\n",
       " 'England': 'London',\n",
       " 'India': 'New Delhi',\n",
       " 'abc': 'xyz',\n",
       " 'Australia': 'Canberra'}"
      ]
     },
     "execution_count": 13,
     "metadata": {},
     "output_type": "execute_result"
    }
   ],
   "source": [
    "capital_dict.update({\"Australia\":\"Canberra\"})\n",
    "capital_dict"
   ]
  },
  {
   "cell_type": "code",
   "execution_count": 14,
   "id": "4602500d-4a96-4ed3-b1c7-3f4c8eca1220",
   "metadata": {},
   "outputs": [],
   "source": [
    "capital_dict.update({\"a\":\"b\",\"p\":\"q\"})"
   ]
  },
  {
   "cell_type": "code",
   "execution_count": 15,
   "id": "2b33fdf4-8d66-4e92-aaae-7a9c68b5d1a2",
   "metadata": {},
   "outputs": [
    {
     "data": {
      "text/plain": [
       "'b'"
      ]
     },
     "execution_count": 15,
     "metadata": {},
     "output_type": "execute_result"
    }
   ],
   "source": [
    "# The pop() method removes and returns an element from a dictionary having the given key.\n",
    "capital_dict.pop(\"a\")"
   ]
  },
  {
   "cell_type": "code",
   "execution_count": 16,
   "id": "befddbd8-a360-4371-b661-036835f00ff0",
   "metadata": {},
   "outputs": [
    {
     "data": {
      "text/plain": [
       "{'Nepal': 'Kathmandu',\n",
       " 'Italy': 'Rome',\n",
       " 'England': 'London',\n",
       " 'India': 'New Delhi',\n",
       " 'abc': 'xyz',\n",
       " 'Australia': 'Canberra',\n",
       " 'p': 'q'}"
      ]
     },
     "execution_count": 16,
     "metadata": {},
     "output_type": "execute_result"
    }
   ],
   "source": [
    "capital_dict"
   ]
  },
  {
   "cell_type": "code",
   "execution_count": 17,
   "id": "dfc8e508-61b8-4e26-8059-0586eb437ce6",
   "metadata": {},
   "outputs": [],
   "source": [
    "capital_dict['abc']=\"Mumbai\""
   ]
  },
  {
   "cell_type": "code",
   "execution_count": 18,
   "id": "fd0e3748-69b5-4d05-bb25-554e6a0705d1",
   "metadata": {},
   "outputs": [
    {
     "data": {
      "text/plain": [
       "{'Nepal': 'Kathmandu',\n",
       " 'Italy': 'Rome',\n",
       " 'England': 'London',\n",
       " 'India': 'New Delhi',\n",
       " 'abc': 'Mumbai',\n",
       " 'Australia': 'Canberra',\n",
       " 'p': 'q'}"
      ]
     },
     "execution_count": 18,
     "metadata": {},
     "output_type": "execute_result"
    }
   ],
   "source": [
    "capital_dict"
   ]
  },
  {
   "cell_type": "code",
   "execution_count": 19,
   "id": "34f12a6b-2634-4b88-9151-cf6667f674d1",
   "metadata": {},
   "outputs": [
    {
     "data": {
      "text/plain": [
       "('p', 'q')"
      ]
     },
     "execution_count": 19,
     "metadata": {},
     "output_type": "execute_result"
    }
   ],
   "source": [
    "capital_dict.popitem() #removes last key : value pair from dictionary"
   ]
  },
  {
   "cell_type": "code",
   "execution_count": 20,
   "id": "298efb02-17e2-44f2-a460-b214bc9419ac",
   "metadata": {},
   "outputs": [
    {
     "data": {
      "text/plain": [
       "{'Nepal': 'Kathmandu',\n",
       " 'Italy': 'Rome',\n",
       " 'England': 'London',\n",
       " 'India': 'New Delhi',\n",
       " 'abc': 'Mumbai',\n",
       " 'Australia': 'Canberra'}"
      ]
     },
     "execution_count": 20,
     "metadata": {},
     "output_type": "execute_result"
    }
   ],
   "source": [
    "capital_dict"
   ]
  },
  {
   "cell_type": "code",
   "execution_count": 21,
   "id": "8b7a1771-f9bf-43fa-8f06-a442f1a032c9",
   "metadata": {},
   "outputs": [],
   "source": [
    "#Dictionary Values can be of different data type\n",
    "mylist=[\"Mango\",\"Orange\",\"Strawberry\",\"Banana\",\"Mulberry\",\"Black berry\"]"
   ]
  },
  {
   "cell_type": "code",
   "execution_count": 22,
   "id": "b0a06544-c2ad-4635-a2b6-8d73ae70f08b",
   "metadata": {},
   "outputs": [],
   "source": [
    "mytuple=(20,53,45,78,89,65,97)"
   ]
  },
  {
   "cell_type": "code",
   "execution_count": 23,
   "id": "e57e5787-2b15-452e-ae84-3cd2e424f9c0",
   "metadata": {},
   "outputs": [
    {
     "data": {
      "text/plain": [
       "{'A': ['Mango', 'Orange', 'Strawberry', 'Banana', 'Mulberry', 'Black berry'],\n",
       " 'B': (20, 53, 45, 78, 89, 65, 97),\n",
       " 'C': {'Nepal': 'Kathmandu',\n",
       "  'Italy': 'Rome',\n",
       "  'England': 'London',\n",
       "  'India': 'New Delhi',\n",
       "  'abc': 'Mumbai',\n",
       "  'Australia': 'Canberra'}}"
      ]
     },
     "execution_count": 23,
     "metadata": {},
     "output_type": "execute_result"
    }
   ],
   "source": [
    "mydict={\"A\":mylist,\n",
    "        \"B\":mytuple,\n",
    "        \"C\":capital_dict}\n",
    "mydict"
   ]
  },
  {
   "cell_type": "code",
   "execution_count": 24,
   "id": "560cc07c-23c2-43c9-b6e9-5ac459b2e4d3",
   "metadata": {},
   "outputs": [
    {
     "data": {
      "text/plain": [
       "['Mango', 'Orange', 'Strawberry', 'Banana', 'Mulberry', 'Black berry']"
      ]
     },
     "execution_count": 24,
     "metadata": {},
     "output_type": "execute_result"
    }
   ],
   "source": [
    "mydict['A']"
   ]
  },
  {
   "cell_type": "code",
   "execution_count": 25,
   "id": "b039ed28-07c2-46c7-a607-ec10a10b4b4a",
   "metadata": {},
   "outputs": [
    {
     "data": {
      "text/plain": [
       "3"
      ]
     },
     "execution_count": 25,
     "metadata": {},
     "output_type": "execute_result"
    }
   ],
   "source": [
    "len(mydict) "
   ]
  },
  {
   "cell_type": "code",
   "execution_count": 26,
   "id": "44b8cad3-737d-4068-9d20-3a8fea7bb3a2",
   "metadata": {},
   "outputs": [
    {
     "data": {
      "text/plain": [
       "6"
      ]
     },
     "execution_count": 26,
     "metadata": {},
     "output_type": "execute_result"
    }
   ],
   "source": [
    "len(mydict['A'])"
   ]
  },
  {
   "cell_type": "code",
   "execution_count": 27,
   "id": "312344f5-dbff-4ee0-9b2b-0da702fdd660",
   "metadata": {},
   "outputs": [
    {
     "data": {
      "text/plain": [
       "(20, 53, 45, 78, 89, 65, 97)"
      ]
     },
     "execution_count": 27,
     "metadata": {},
     "output_type": "execute_result"
    }
   ],
   "source": [
    "mydict['B']"
   ]
  },
  {
   "cell_type": "code",
   "execution_count": 28,
   "id": "ac8071fe-df12-4ff2-88de-35c7f940aea5",
   "metadata": {},
   "outputs": [
    {
     "data": {
      "text/plain": [
       "'Strawberry'"
      ]
     },
     "execution_count": 28,
     "metadata": {},
     "output_type": "execute_result"
    }
   ],
   "source": [
    "mydict['A'][2] #index 0,1,2,3 3rd index element = Banana"
   ]
  },
  {
   "cell_type": "code",
   "execution_count": 31,
   "id": "77c56c8b-492a-43dd-9fea-feda502433ca",
   "metadata": {},
   "outputs": [
    {
     "data": {
      "text/plain": [
       "'London'"
      ]
     },
     "execution_count": 31,
     "metadata": {},
     "output_type": "execute_result"
    }
   ],
   "source": [
    "mydict['C']['England']"
   ]
  },
  {
   "cell_type": "code",
   "execution_count": 32,
   "id": "e9595cff-c8aa-4be3-aee6-53a90556af3f",
   "metadata": {},
   "outputs": [
    {
     "ename": "NameError",
     "evalue": "name 'sqrt' is not defined",
     "output_type": "error",
     "traceback": [
      "\u001b[1;31m---------------------------------------------------------------------------\u001b[0m",
      "\u001b[1;31mNameError\u001b[0m                                 Traceback (most recent call last)",
      "Cell \u001b[1;32mIn[32], line 2\u001b[0m\n\u001b[0;32m      1\u001b[0m \u001b[38;5;66;03m# Math functions: can import specific functions or all using *\u001b[39;00m\n\u001b[1;32m----> 2\u001b[0m sqrt(\u001b[38;5;241m25\u001b[39m)\n",
      "\u001b[1;31mNameError\u001b[0m: name 'sqrt' is not defined"
     ]
    }
   ],
   "source": [
    "# Math functions: can import specific functions or all using *\n",
    "sqrt(25) # raise error as you have not imported"
   ]
  },
  {
   "cell_type": "code",
   "execution_count": 33,
   "id": "074d559c-e71b-43d9-8325-fa708e70a46a",
   "metadata": {},
   "outputs": [
    {
     "data": {
      "text/plain": [
       "6.0"
      ]
     },
     "execution_count": 33,
     "metadata": {},
     "output_type": "execute_result"
    }
   ],
   "source": [
    "from math import sqrt\n",
    "sqrt(36)"
   ]
  },
  {
   "cell_type": "code",
   "execution_count": 35,
   "id": "14a3125f-1b3b-4bc1-9765-9fe50e8aef21",
   "metadata": {},
   "outputs": [
    {
     "ename": "NameError",
     "evalue": "name 'factorial' is not defined",
     "output_type": "error",
     "traceback": [
      "\u001b[1;31m---------------------------------------------------------------------------\u001b[0m",
      "\u001b[1;31mNameError\u001b[0m                                 Traceback (most recent call last)",
      "Cell \u001b[1;32mIn[35], line 1\u001b[0m\n\u001b[1;32m----> 1\u001b[0m factorial(\u001b[38;5;241m5\u001b[39m)\n",
      "\u001b[1;31mNameError\u001b[0m: name 'factorial' is not defined"
     ]
    }
   ],
   "source": [
    "factorial(5)"
   ]
  },
  {
   "cell_type": "code",
   "execution_count": 36,
   "id": "6ff6a215-2edc-470b-ae4d-1394ab7d4bde",
   "metadata": {},
   "outputs": [
    {
     "data": {
      "text/plain": [
       "120"
      ]
     },
     "execution_count": 36,
     "metadata": {},
     "output_type": "execute_result"
    }
   ],
   "source": [
    "from math import factorial\n",
    "factorial(5)"
   ]
  },
  {
   "cell_type": "code",
   "execution_count": 37,
   "id": "32d3605a-4509-4e98-85a4-74a0ec187ec5",
   "metadata": {},
   "outputs": [
    {
     "ename": "NameError",
     "evalue": "name 'sin' is not defined",
     "output_type": "error",
     "traceback": [
      "\u001b[1;31m---------------------------------------------------------------------------\u001b[0m",
      "\u001b[1;31mNameError\u001b[0m                                 Traceback (most recent call last)",
      "Cell \u001b[1;32mIn[37], line 1\u001b[0m\n\u001b[1;32m----> 1\u001b[0m sin(\u001b[38;5;241m90\u001b[39m)\n",
      "\u001b[1;31mNameError\u001b[0m: name 'sin' is not defined"
     ]
    }
   ],
   "source": [
    "sin(90)"
   ]
  },
  {
   "cell_type": "code",
   "execution_count": 38,
   "id": "85dd9d89-dcfc-4bfe-865f-87e1055a4d22",
   "metadata": {},
   "outputs": [],
   "source": [
    "from math import sin,cos,tan"
   ]
  },
  {
   "cell_type": "code",
   "execution_count": 39,
   "id": "470d1f02-e894-4d70-a848-49d240eadfde",
   "metadata": {},
   "outputs": [
    {
     "data": {
      "text/plain": [
       "1.0"
      ]
     },
     "execution_count": 39,
     "metadata": {},
     "output_type": "execute_result"
    }
   ],
   "source": [
    "cos(0)"
   ]
  },
  {
   "cell_type": "code",
   "execution_count": 40,
   "id": "185c71cd-8b54-4a3d-bb35-1d881225343d",
   "metadata": {},
   "outputs": [
    {
     "data": {
      "text/plain": [
       "0.8939966636005579"
      ]
     },
     "execution_count": 40,
     "metadata": {},
     "output_type": "execute_result"
    }
   ],
   "source": [
    "sin(90)"
   ]
  },
  {
   "cell_type": "code",
   "execution_count": 43,
   "id": "748bdb1d-42ea-435f-8dc7-3ad32c997845",
   "metadata": {},
   "outputs": [
    {
     "data": {
      "text/plain": [
       "60"
      ]
     },
     "execution_count": 43,
     "metadata": {},
     "output_type": "execute_result"
    }
   ],
   "source": [
    "from math import *\n",
    "listnew=[10,2,3]\n",
    "prod(listnew) # or prod ([10,20,30])"
   ]
  },
  {
   "cell_type": "code",
   "execution_count": 44,
   "id": "6821d429-7f26-442d-b4d8-901991197ea1",
   "metadata": {},
   "outputs": [
    {
     "ename": "NameError",
     "evalue": "name 't1' is not defined",
     "output_type": "error",
     "traceback": [
      "\u001b[1;31m---------------------------------------------------------------------------\u001b[0m",
      "\u001b[1;31mNameError\u001b[0m                                 Traceback (most recent call last)",
      "Cell \u001b[1;32mIn[44], line 1\u001b[0m\n\u001b[1;32m----> 1\u001b[0m prod(t1)\n",
      "\u001b[1;31mNameError\u001b[0m: name 't1' is not defined"
     ]
    }
   ],
   "source": [
    "prod(t1)"
   ]
  },
  {
   "cell_type": "code",
   "execution_count": 45,
   "id": "d87baed5-7b47-4616-a7d1-371d6df71778",
   "metadata": {},
   "outputs": [
    {
     "name": "stdout",
     "output_type": "stream",
     "text": [
      "120\n"
     ]
    }
   ],
   "source": [
    "# OR you can say 'import math'\n",
    "# But while calling any function you have to use math.Function_Name()\n",
    "# The math.prod() method returns the product of the elements from the given iterable.\n",
    "import math  # or 'import math as mt', mt.sqrt(64 )\n",
    "sequence = (2,2,5,6) # iterable where elements are given\n",
    "print(math.prod(sequence))"
   ]
  },
  {
   "cell_type": "code",
   "execution_count": 46,
   "id": "f4d36776-c226-483f-b661-47155d5953b3",
   "metadata": {},
   "outputs": [
    {
     "data": {
      "text/plain": [
       "24"
      ]
     },
     "execution_count": 46,
     "metadata": {},
     "output_type": "execute_result"
    }
   ],
   "source": [
    "import math\n",
    "list4=[2,3,4]\n",
    "math.prod(list4)"
   ]
  },
  {
   "cell_type": "code",
   "execution_count": 47,
   "id": "38b038e4-4206-427e-9e20-840fc1cd88fd",
   "metadata": {},
   "outputs": [
    {
     "data": {
      "text/plain": [
       "['__doc__',\n",
       " '__loader__',\n",
       " '__name__',\n",
       " '__package__',\n",
       " '__spec__',\n",
       " 'acos',\n",
       " 'acosh',\n",
       " 'asin',\n",
       " 'asinh',\n",
       " 'atan',\n",
       " 'atan2',\n",
       " 'atanh',\n",
       " 'cbrt',\n",
       " 'ceil',\n",
       " 'comb',\n",
       " 'copysign',\n",
       " 'cos',\n",
       " 'cosh',\n",
       " 'degrees',\n",
       " 'dist',\n",
       " 'e',\n",
       " 'erf',\n",
       " 'erfc',\n",
       " 'exp',\n",
       " 'exp2',\n",
       " 'expm1',\n",
       " 'fabs',\n",
       " 'factorial',\n",
       " 'floor',\n",
       " 'fma',\n",
       " 'fmod',\n",
       " 'frexp',\n",
       " 'fsum',\n",
       " 'gamma',\n",
       " 'gcd',\n",
       " 'hypot',\n",
       " 'inf',\n",
       " 'isclose',\n",
       " 'isfinite',\n",
       " 'isinf',\n",
       " 'isnan',\n",
       " 'isqrt',\n",
       " 'lcm',\n",
       " 'ldexp',\n",
       " 'lgamma',\n",
       " 'log',\n",
       " 'log10',\n",
       " 'log1p',\n",
       " 'log2',\n",
       " 'modf',\n",
       " 'nan',\n",
       " 'nextafter',\n",
       " 'perm',\n",
       " 'pi',\n",
       " 'pow',\n",
       " 'prod',\n",
       " 'radians',\n",
       " 'remainder',\n",
       " 'sin',\n",
       " 'sinh',\n",
       " 'sqrt',\n",
       " 'sumprod',\n",
       " 'tan',\n",
       " 'tanh',\n",
       " 'tau',\n",
       " 'trunc',\n",
       " 'ulp']"
      ]
     },
     "execution_count": 47,
     "metadata": {},
     "output_type": "execute_result"
    }
   ],
   "source": [
    "dir(math) #all functions of math library"
   ]
  },
  {
   "cell_type": "code",
   "execution_count": 48,
   "id": "0db0e8ce-a781-4005-bcf8-4f8ffaaee3a1",
   "metadata": {},
   "outputs": [],
   "source": [
    "import math as mt"
   ]
  },
  {
   "cell_type": "code",
   "execution_count": 49,
   "id": "07cbf483-2951-4908-b42d-db76e2be6341",
   "metadata": {},
   "outputs": [
    {
     "data": {
      "text/plain": [
       "6.0"
      ]
     },
     "execution_count": 49,
     "metadata": {},
     "output_type": "execute_result"
    }
   ],
   "source": [
    "mt.sqrt(36)"
   ]
  },
  {
   "cell_type": "code",
   "execution_count": null,
   "id": "aaa7affe-ec56-4474-853b-064002fe6bcd",
   "metadata": {},
   "outputs": [],
   "source": []
  }
 ],
 "metadata": {
  "kernelspec": {
   "display_name": "Python 3 (ipykernel)",
   "language": "python",
   "name": "python3"
  },
  "language_info": {
   "codemirror_mode": {
    "name": "ipython",
    "version": 3
   },
   "file_extension": ".py",
   "mimetype": "text/x-python",
   "name": "python",
   "nbconvert_exporter": "python",
   "pygments_lexer": "ipython3",
   "version": "3.13.5"
  }
 },
 "nbformat": 4,
 "nbformat_minor": 5
}
